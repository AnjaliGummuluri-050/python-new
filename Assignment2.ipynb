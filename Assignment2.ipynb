{
  "nbformat": 4,
  "nbformat_minor": 0,
  "metadata": {
    "colab": {
      "name": "Assignment2.ipynb",
      "provenance": [],
      "collapsed_sections": [],
      "authorship_tag": "ABX9TyO3QHyAuxIQhbeFlPffAdIg",
      "include_colab_link": true
    },
    "kernelspec": {
      "name": "python3",
      "display_name": "Python 3"
    },
    "language_info": {
      "name": "python"
    }
  },
  "cells": [
    {
      "cell_type": "markdown",
      "metadata": {
        "id": "view-in-github",
        "colab_type": "text"
      },
      "source": [
        "<a href=\"https://colab.research.google.com/github/AnjaliGummuluri-050/python-new/blob/Module2/Assignment2.ipynb\" target=\"_parent\"><img src=\"https://colab.research.google.com/assets/colab-badge.svg\" alt=\"Open In Colab\"/></a>"
      ]
    },
    {
      "cell_type": "code",
      "source": [
        "#Recursive function to find product of two numbers\n",
        "def product( x , y ):\n",
        "    if x < y:\n",
        "        return product(y, x)\n",
        "    elif y != 0:\n",
        "        return (x + product(x, y - 1))\n",
        "    else:\n",
        "        return 0\n",
        "x = int(input(\"Enter first number: \"))\n",
        "y = int(input(\"Enter second number: \"))\n",
        "print( product(x, y))"
      ],
      "metadata": {
        "colab": {
          "base_uri": "https://localhost:8080/"
        },
        "id": "ah-7cWNXYM0F",
        "outputId": "8ad99d19-4364-48c1-fc9c-87a62d24a219"
      },
      "execution_count": null,
      "outputs": [
        {
          "output_type": "stream",
          "name": "stdout",
          "text": [
            "Enter first number: 4\n",
            "Enter second number: 5\n",
            "20\n"
          ]
        }
      ]
    },
    {
      "cell_type": "code",
      "source": [
        "#Program to get the difference between the two lists. \n",
        "l1=['apple','banana','squid']\n",
        "list2=['squid','mass','gainer']\n",
        "x=set(l1)\n",
        "y=set(list2)\n",
        "z=x.difference(y)\n",
        "w=y.difference(x)\n",
        "z.update(w)\n",
        "a=list(z)\n",
        "print(a)"
      ],
      "metadata": {
        "colab": {
          "base_uri": "https://localhost:8080/"
        },
        "id": "atnS_yEkMLXs",
        "outputId": "3b82797d-fc40-484c-cc0e-e0e047c65caf"
      },
      "execution_count": null,
      "outputs": [
        {
          "output_type": "stream",
          "name": "stdout",
          "text": [
            "['apple', 'gainer', 'banana', 'mass']\n"
          ]
        }
      ]
    },
    {
      "cell_type": "code",
      "source": [
        "#create a list of tuples having first element as the number and second element as the square of the number.\n",
        "start=int(input(\"Enter the lower range: \"))\n",
        "end=int(input(\"Enter the upper range: \"))\n",
        "a=[(x,x**2) for x in range(start,end+1)]\n",
        "print(a)"
      ],
      "metadata": {
        "colab": {
          "base_uri": "https://localhost:8080/"
        },
        "id": "-uVe0i0HOYlN",
        "outputId": "2caed1e9-db9c-4059-fda2-428b2019700b"
      },
      "execution_count": null,
      "outputs": [
        {
          "output_type": "stream",
          "name": "stdout",
          "text": [
            "Enter the lower range: 1\n",
            "Enter the upper range: 10\n",
            "[(1, 1), (2, 4), (3, 9), (4, 16), (5, 25), (6, 36), (7, 49), (8, 64), (9, 81), (10, 100)]\n"
          ]
        }
      ]
    },
    {
      "cell_type": "code",
      "source": [
        "#Given a list of tuples, remove all the tuples with length K\n",
        "list1=[(4, 5), (4, ), (8, 6, 7), (1, ), (3, 4, 6, 7)]\n",
        "k=2\n",
        "y=len(list1)\n",
        "for x in range(0,y+1):\n",
        "  if y==k:\n",
        "    list1.remove(x)\n",
        "print(list1)"
      ],
      "metadata": {
        "colab": {
          "base_uri": "https://localhost:8080/"
        },
        "id": "tPxKqg6zX229",
        "outputId": "ee7ce001-7479-4614-c9ea-5f14202c9dd3"
      },
      "execution_count": null,
      "outputs": [
        {
          "output_type": "stream",
          "name": "stdout",
          "text": [
            "[(4, 5), (4,), (8, 6, 7), (1,), (3, 4, 6, 7)]\n"
          ]
        }
      ]
    },
    {
      "cell_type": "code",
      "source": [
        "#Program to generate and print a dictionary that contains a number (between 1 and n) in the form (x, x*x)\n",
        "n=int(input(\"Enter ending value of range: \"))\n",
        "d=dict()\n",
        "for x in range(1,n+1):\n",
        " d[x]=x*x\n",
        "print(d)"
      ],
      "metadata": {
        "id": "w0E8J2PrsrzX",
        "colab": {
          "base_uri": "https://localhost:8080/"
        },
        "outputId": "e644ae8a-10ac-4ebb-f289-a33fa6580606"
      },
      "execution_count": null,
      "outputs": [
        {
          "output_type": "stream",
          "name": "stdout",
          "text": [
            "Enter ending value of range: 5\n",
            "{1: 1, 2: 4, 3: 9, 4: 16, 5: 25}\n"
          ]
        }
      ]
    },
    {
      "cell_type": "code",
      "source": [
        "#x Program for Counting occurrence of a certain element in a string, getting indexes that have matching elements.\n",
        "s=str(input(\"Enter a string\"))\n",
        "x=str(input(\"Enter letter to be counted\"))\n",
        "y=s.count(x)\n",
        "print(y)\n",
        "f=0\n",
        "for i in range(len(s)):\n",
        "  m=s.index(\"o\")\n",
        "  print(m)\n",
        "k=s.replace(\"b\",\"k\")\n",
        "print(k)"
      ],
      "metadata": {
        "colab": {
          "base_uri": "https://localhost:8080/"
        },
        "id": "nDGlRVTVPuwf",
        "outputId": "188b76cc-db8b-4c2a-fc2f-fc3601297e07"
      },
      "execution_count": null,
      "outputs": [
        {
          "output_type": "stream",
          "name": "stdout",
          "text": [
            "Enter a stringbook\n",
            "Enter letter to be countedo\n",
            "2\n",
            "1\n",
            "1\n",
            "1\n",
            "1\n",
            "kook\n"
          ]
        }
      ]
    },
    {
      "cell_type": "code",
      "source": [
        "s=str(input())\n",
        "x=0\n",
        "y=0\n",
        "l=len(s)\n",
        "for i in s:\n",
        " if i.islower():\n",
        "   x=x+1\n",
        " else:\n",
        "   y+=1\n",
        "print(x,y)"
      ],
      "metadata": {
        "colab": {
          "base_uri": "https://localhost:8080/"
        },
        "id": "854D_OEcR1sr",
        "outputId": "f0d848a8-2149-4eba-8d4c-e1b558992067"
      },
      "execution_count": null,
      "outputs": [
        {
          "output_type": "stream",
          "name": "stdout",
          "text": [
            "GaG\n",
            "1 2\n"
          ]
        }
      ]
    },
    {
      "cell_type": "code",
      "source": [
        "def hcf(x,y):\n",
        "    if x > y:\n",
        "        a = y\n",
        "    else:\n",
        "        a = x\n",
        "    for i in range(1, a+1):\n",
        "        if((x % i == 0) and (y % i == 0)):\n",
        "            hcf = i \n",
        "    return hcf\n",
        "\n",
        "n = int(input()) \n",
        "m = int(input())\n",
        "\n",
        "print(\"The H.C.F. is\", hcf(n, m))"
      ],
      "metadata": {
        "id": "W32L1gJ4Xeb4",
        "colab": {
          "base_uri": "https://localhost:8080/"
        },
        "outputId": "7128d017-6f83-43c1-b8fe-89ae5607f02b"
      },
      "execution_count": null,
      "outputs": [
        {
          "output_type": "stream",
          "name": "stdout",
          "text": [
            "54\n",
            "48\n",
            "The H.C.F. is 6\n"
          ]
        }
      ]
    },
    {
      "cell_type": "code",
      "source": [
        "#Program to Acronym generator for any user input \n",
        "s=str(input())\n",
        "l=len(s)\n",
        "c=0\n",
        "print(s[0].title(),end=\"\")\n",
        "for i in range(0,l-1):\n",
        "  if s[i].isspace():\n",
        "    j=i+1\n",
        "    print(s[j].title(),end=\"\")\n",
        "for i in range(0,l-1):\n",
        "  if s[i].isspace():\n",
        "    c+=1\n",
        "print(\"\\n\"+str(c))"
      ],
      "metadata": {
        "id": "4xiCYmho7g9H",
        "colab": {
          "base_uri": "https://localhost:8080/"
        },
        "outputId": "d2627fca-a7b6-464b-f5bd-88d82abcd280"
      },
      "execution_count": null,
      "outputs": [
        {
          "output_type": "stream",
          "name": "stdout",
          "text": [
            "Random Access Memory\n",
            "RAM\n",
            "2\n"
          ]
        }
      ]
    },
    {
      "cell_type": "code",
      "source": [
        "#create a list of tuples having first element as the number and second element as the square of the number.\n",
        "list=[]\n",
        "n=int(input())\n",
        "for i in range(0,n):\n",
        "  x=(int(input()))\n",
        "  list.append(x)\n",
        "print(list)\n",
        "result=[(y,pow(y,2)) for y in list]\n",
        "print(result)"
      ],
      "metadata": {
        "colab": {
          "base_uri": "https://localhost:8080/"
        },
        "id": "fHFS6rnnJjJY",
        "outputId": "a654285e-d409-4d21-e4ed-4c1770ab85ae"
      },
      "execution_count": null,
      "outputs": [
        {
          "output_type": "stream",
          "name": "stdout",
          "text": [
            "5\n",
            "1\n",
            "2\n",
            "3\n",
            "4\n",
            "5\n",
            "[1, 2, 3, 4, 5]\n",
            "[(1, 1), (2, 4), (3, 9), (4, 16), (5, 25)]\n"
          ]
        }
      ]
    },
    {
      "cell_type": "code",
      "source": [
        "#Program to remove a key from a dictionary\n",
        "thisdict={\n",
        "    \"Name\":str(input()),\n",
        "    \"Roll\":int(input()),\n",
        "    \"Sec\":str(input())\n",
        "}\n",
        "print(thisdict)\n",
        "del thisdict[\"Name\"]\n",
        "print(thisdict)"
      ],
      "metadata": {
        "colab": {
          "base_uri": "https://localhost:8080/"
        },
        "id": "1Tw28NHrwYqw",
        "outputId": "bad1ba96-8096-48d3-9721-bb6026ff964a"
      },
      "execution_count": null,
      "outputs": [
        {
          "output_type": "stream",
          "name": "stdout",
          "text": [
            "Anjali\n",
            "50\n",
            "A\n",
            "{'Name': 'Anjali', 'Roll': 50, 'Sec': 'A'}\n",
            "{'Roll': 50, 'Sec': 'A'}\n"
          ]
        }
      ]
    },
    {
      "cell_type": "code",
      "source": [
        "#Program for replacing one substring by another \n",
        "s= str(input(\"Enter string: \"))\n",
        "sub = str(input(\"Enter the substring to be replaced: \"))\n",
        "r = str(input(\"Enter the string to replace with: \"))\n",
        "print (s.replace(sub, r))\n"
      ],
      "metadata": {
        "colab": {
          "base_uri": "https://localhost:8080/"
        },
        "id": "1mnilj-_zaoX",
        "outputId": "6f43c005-80e4-4216-b9b5-183a5d312613"
      },
      "execution_count": null,
      "outputs": [
        {
          "output_type": "stream",
          "name": "stdout",
          "text": [
            "Enter string: Hello aiml guys\n",
            "Enter the substring to be replaced: guys\n",
            "Enter the string to be replaced:people\n",
            "Hello aiml people\n"
          ]
        }
      ]
    },
    {
      "cell_type": "code",
      "source": [
        "#Program to find the second smallest number and second largest number in a list\n",
        "list1=[]\n",
        "n=int(input(\"Enter the number of elements: \"))\n",
        "for i in range(0,n):\n",
        "  x=int(input())\n",
        "  list1.append(x)\n",
        "print(list1)\n",
        "list1.sort()\n",
        "print(list1)\n",
        "print(list1[1], list1[-2])"
      ],
      "metadata": {
        "colab": {
          "base_uri": "https://localhost:8080/"
        },
        "id": "kkqondKg4uEm",
        "outputId": "0d184cb1-7ea3-4ff9-ff1f-e705dcdb6d81"
      },
      "execution_count": null,
      "outputs": [
        {
          "output_type": "stream",
          "name": "stdout",
          "text": [
            "Enter the number of elements: 5\n",
            "4\n",
            "2\n",
            "1\n",
            "9\n",
            "7\n",
            "[4, 2, 1, 9, 7]\n",
            "[1, 2, 4, 7, 9]\n",
            "2 7\n"
          ]
        }
      ]
    },
    {
      "cell_type": "code",
      "source": [
        "#Program to get the maximum and minimum value in a dictionary.\n",
        "dictionary = {'x':int(input()),\n",
        "              'y':int(input()),\n",
        "              'z':int(input())\n",
        "           }\n",
        "\n",
        "max_key=max(dictionary, key=dictionary.get)\n",
        "print(\"The maximum value is: \")\n",
        "print(max_key, end=\" \")\n",
        "print(dictionary.get(max_key))\n",
        "min_key = min(dictionary, key=dictionary.get)\n",
        "print(\"The minimum value is: \")\n",
        "print(min_key,end=\" \")\n",
        "print(dictionary.get(min_key))"
      ],
      "metadata": {
        "id": "EHhEfmiMyqzO",
        "colab": {
          "base_uri": "https://localhost:8080/"
        },
        "outputId": "c4899d6e-e108-4f5c-df29-fe4e4c4f8822"
      },
      "execution_count": null,
      "outputs": [
        {
          "output_type": "stream",
          "name": "stdout",
          "text": [
            "2\n",
            "5\n",
            "1\n",
            "The maximum value is: \n",
            "y 5\n",
            "The minimum value is: \n",
            "z 1\n"
          ]
        }
      ]
    },
    {
      "cell_type": "code",
      "source": [
        "#Given list of tuples, remove all the tuples with length K.\n",
        "l1 = [(4, 5), (4, ), (8, 6, 7), (1, ), (3, 4, 6, 7)]\n",
        "print(\"original list : \" + str(l1))\n",
        "K = 2\n",
        "x = [i for i in l1 if len(i) != K]\n",
        "print(\"Filtered list : \" + str(x))"
      ],
      "metadata": {
        "colab": {
          "base_uri": "https://localhost:8080/"
        },
        "id": "zSUxpnsaEi3V",
        "outputId": "c922a68c-90e8-40fa-da4e-ec859579e9cc"
      },
      "execution_count": null,
      "outputs": [
        {
          "output_type": "stream",
          "name": "stdout",
          "text": [
            "original list : [(4, 5), (4,), (8, 6, 7), (1,), (3, 4, 6, 7)]\n",
            "Filtered list : [(4,), (8, 6, 7), (1,), (3, 4, 6, 7)]\n"
          ]
        }
      ]
    },
    {
      "cell_type": "code",
      "source": [
        "#Program to perform operations on string using unicodes ,splitting of string,accessing elements of string using locations\n",
        "s=input()\n",
        "x=s.split()\n",
        "print(x)\n",
        "print(s[0:7])"
      ],
      "metadata": {
        "colab": {
          "base_uri": "https://localhost:8080/"
        },
        "id": "Jdf819CPTu5Y",
        "outputId": "0c1b8ad2-cc50-4b16-f001-7c244d2d50e9"
      },
      "execution_count": null,
      "outputs": [
        {
          "output_type": "stream",
          "name": "stdout",
          "text": [
            "how are you\n",
            "['how', 'are', 'you']\n",
            "how are\n"
          ]
        }
      ]
    },
    {
      "cell_type": "code",
      "source": [
        "#Program for Counting occurrence of a certain element in a string, getting indexes that have matching elements.\n",
        "def index(str, s):\n",
        "    flag = False\n",
        "    for i in range(len(str)):\n",
        "        if (str[i:i + len(s)] == s):  \n",
        "            print( i, end =\" \")\n",
        "            flag = True\n",
        "    if (flag == False):\n",
        "        print(\"NONE\");      \n",
        "s1 = input()\n",
        "s2 = input()\n",
        "index(s1, s2)\n",
        "x=s1.count(s2)\n",
        "print(\"\\n\"+str(x))"
      ],
      "metadata": {
        "colab": {
          "base_uri": "https://localhost:8080/"
        },
        "id": "1tjRiBHsUwZo",
        "outputId": "57ce5a31-4fb3-4403-c94f-a59bfe4826e4"
      },
      "execution_count": null,
      "outputs": [
        {
          "output_type": "stream",
          "name": "stdout",
          "text": [
            "hi hi my name is anjali\n",
            "hi\n",
            "0 3 \n",
            "2\n"
          ]
        }
      ]
    },
    {
      "cell_type": "code",
      "source": [
        "#Program to count the number of strings where the string length is 2 or more and the first and last character are same from a given list of strings Sample List : ['abc', 'xyz', 'aba', '1221'] Expected Result : 2\n",
        "def match(s):\n",
        "  c = 0\n",
        "\n",
        "  for i in s:\n",
        "    if len(i) > 1 and i[0] == i[-1]:\n",
        "      c += 1\n",
        "  return c\n",
        "\n",
        "print(match(['abc', 'xyz', 'aba', '1221']))\n"
      ],
      "metadata": {
        "colab": {
          "base_uri": "https://localhost:8080/"
        },
        "id": "rLBhIu2jWm7I",
        "outputId": "8b1495f1-4fc5-4253-b4a0-4e02c0e6484b"
      },
      "execution_count": null,
      "outputs": [
        {
          "output_type": "stream",
          "name": "stdout",
          "text": [
            "2\n"
          ]
        }
      ]
    }
  ]
}