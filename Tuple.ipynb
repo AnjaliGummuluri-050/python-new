{
  "nbformat": 4,
  "nbformat_minor": 0,
  "metadata": {
    "colab": {
      "name": "Tuple.ipynb",
      "provenance": [],
      "collapsed_sections": [],
      "authorship_tag": "ABX9TyP6diesiGISNH7/0h8TG/d4",
      "include_colab_link": true
    },
    "kernelspec": {
      "name": "python3",
      "display_name": "Python 3"
    },
    "language_info": {
      "name": "python"
    }
  },
  "cells": [
    {
      "cell_type": "markdown",
      "metadata": {
        "id": "view-in-github",
        "colab_type": "text"
      },
      "source": [
        "<a href=\"https://colab.research.google.com/github/AnjaliGummuluri-050/python-new/blob/Module2/Tuple.ipynb\" target=\"_parent\"><img src=\"https://colab.research.google.com/assets/colab-badge.svg\" alt=\"Open In Colab\"/></a>"
      ]
    },
    {
      "cell_type": "code",
      "execution_count": 1,
      "metadata": {
        "colab": {
          "base_uri": "https://localhost:8080/"
        },
        "id": "AEPxbkYgOSvp",
        "outputId": "4f950ada-8e6e-47b1-9da8-82e77e6bd6ac"
      },
      "outputs": [
        {
          "output_type": "stream",
          "name": "stdout",
          "text": [
            "('butterflies', 'flowers', 'grass')\n"
          ]
        }
      ],
      "source": [
        "mytuple=('butterflies','flowers','grass')\n",
        "print(mytuple)"
      ]
    },
    {
      "cell_type": "markdown",
      "source": [
        "Tuple items are ordered, unchangeable, and allow duplicate values.\n",
        "\n",
        "Tuple items are indexed, the first item has index [0], the second item has index [1] etc.\n",
        "cannot change, add or remove items after the tuple has been created."
      ],
      "metadata": {
        "id": "x8kYvljEU0WO"
      }
    },
    {
      "cell_type": "code",
      "source": [
        "fruits=('banana','orange','peach')\n",
        "print(len(fruits))"
      ],
      "metadata": {
        "colab": {
          "base_uri": "https://localhost:8080/"
        },
        "id": "CcLlhgmXU0-b",
        "outputId": "eef0e231-8d82-48ac-e9b9-c8458d1e8499"
      },
      "execution_count": null,
      "outputs": [
        {
          "output_type": "stream",
          "name": "stdout",
          "text": [
            "3\n"
          ]
        }
      ]
    },
    {
      "cell_type": "code",
      "source": [
        "fruit=('cherry',) #one item\n",
        "print(fruit)"
      ],
      "metadata": {
        "colab": {
          "base_uri": "https://localhost:8080/"
        },
        "id": "X6UYOtNhVMET",
        "outputId": "6af5ae8b-9a58-4ed6-94ec-e195a9ba77fd"
      },
      "execution_count": null,
      "outputs": [
        {
          "output_type": "stream",
          "name": "stdout",
          "text": [
            "('cherry',)\n"
          ]
        }
      ]
    },
    {
      "cell_type": "markdown",
      "source": [
        "lists[] tuples() sets{}"
      ],
      "metadata": {
        "id": "732F-19IlArf"
      }
    },
    {
      "cell_type": "code",
      "source": [
        "#Duplicates \n",
        "tup=('apple','fox','star','apple','hello','fox')\n",
        "print(tup)"
      ],
      "metadata": {
        "colab": {
          "base_uri": "https://localhost:8080/"
        },
        "id": "vOxK-CQNlGlX",
        "outputId": "1a314340-2f31-4187-f898-353fc6fcd36a"
      },
      "execution_count": null,
      "outputs": [
        {
          "output_type": "stream",
          "name": "stdout",
          "text": [
            "('apple', 'fox', 'star', 'apple', 'hello', 'fox')\n"
          ]
        }
      ]
    },
    {
      "cell_type": "code",
      "source": [
        "thistuple = tuple((\"apple\", \"banana\", \"cherry\")) # note the double round-brackets\n",
        "print(thistuple)"
      ],
      "metadata": {
        "colab": {
          "base_uri": "https://localhost:8080/"
        },
        "id": "v3kpolAYle5P",
        "outputId": "cc21803b-d3a1-4a00-890c-168b8ae7272c"
      },
      "execution_count": null,
      "outputs": [
        {
          "output_type": "stream",
          "name": "stdout",
          "text": [
            "('apple', 'banana', 'cherry')\n"
          ]
        }
      ]
    },
    {
      "cell_type": "code",
      "source": [
        "mytuple = (\"apple\", \"banana\", \"cherry\")\n",
        "print(type(mytuple))"
      ],
      "metadata": {
        "colab": {
          "base_uri": "https://localhost:8080/"
        },
        "id": "299LY06fxyTU",
        "outputId": "8c538367-1313-486b-ce55-7053ad823293"
      },
      "execution_count": null,
      "outputs": [
        {
          "output_type": "stream",
          "name": "stdout",
          "text": [
            "<class 'tuple'>\n"
          ]
        }
      ]
    },
    {
      "cell_type": "code",
      "source": [
        "a=(1,12,3,4,1,1,2)\n",
        "b=list(a)\n",
        "for i in b:\n",
        "  if i==1:\n",
        "    b.remove(1)\n",
        "c=tuple(b)\n",
        "print(c)"
      ],
      "metadata": {
        "colab": {
          "base_uri": "https://localhost:8080/"
        },
        "id": "E8IHBWc84eF9",
        "outputId": "eedc44b3-1d98-45d9-f35c-a3f508752466"
      },
      "execution_count": null,
      "outputs": [
        {
          "output_type": "stream",
          "name": "stdout",
          "text": [
            "(12, 3, 4, 1, 2)\n"
          ]
        }
      ]
    },
    {
      "cell_type": "code",
      "source": [
        "egg=('mango','cherry','banana','apple')\n",
        "y=list(egg)\n",
        "y.insert(1,'f')\n",
        "x=tuple(y)\n",
        "print(x)"
      ],
      "metadata": {
        "id": "Nxpl631r2irz",
        "colab": {
          "base_uri": "https://localhost:8080/"
        },
        "outputId": "2db4e378-422a-4bee-d0eb-f3f533a4fbef"
      },
      "execution_count": 2,
      "outputs": [
        {
          "output_type": "stream",
          "name": "stdout",
          "text": [
            "('mango', 'f', 'cherry', 'banana', 'apple')\n"
          ]
        }
      ]
    },
    {
      "cell_type": "code",
      "source": [
        "s=('red','green','blue')\n",
        "for x in s:\n",
        "  print(x)"
      ],
      "metadata": {
        "colab": {
          "base_uri": "https://localhost:8080/"
        },
        "id": "hTr7Ls9EVKod",
        "outputId": "767c5f6b-2086-4bfd-ffe5-1f82047dc636"
      },
      "execution_count": null,
      "outputs": [
        {
          "output_type": "stream",
          "name": "stdout",
          "text": [
            "red\n",
            "green\n",
            "blue\n"
          ]
        }
      ]
    },
    {
      "cell_type": "code",
      "source": [
        "s=('red','green','blue')\n",
        "for x in range(len(s)):\n",
        "  print(s[x])"
      ],
      "metadata": {
        "colab": {
          "base_uri": "https://localhost:8080/"
        },
        "id": "ECEQ5TfEWhPU",
        "outputId": "da62566e-e1d3-447d-f6c0-0812d0f22351"
      },
      "execution_count": null,
      "outputs": [
        {
          "output_type": "stream",
          "name": "stdout",
          "text": [
            "red\n",
            "green\n",
            "blue\n"
          ]
        }
      ]
    },
    {
      "cell_type": "code",
      "source": [
        "s=('cherry','smoothie','ice')\n",
        "i=0\n",
        "while i <len(s):\n",
        "  print(s[i])\n",
        "  i=i+1"
      ],
      "metadata": {
        "colab": {
          "base_uri": "https://localhost:8080/"
        },
        "id": "yw6C0LSAY6dO",
        "outputId": "99ae5671-e83f-4df0-cfa7-751ca192164d"
      },
      "execution_count": null,
      "outputs": [
        {
          "output_type": "stream",
          "name": "stdout",
          "text": [
            "cherry\n",
            "smoothie\n",
            "ice\n"
          ]
        }
      ]
    },
    {
      "cell_type": "code",
      "source": [
        "a=('bobbi brown','dior','forever21')\n",
        "b=('smashbox', 'twofaced', 'hm'))\n",
        "c=a+b\n",
        "print(c)"
      ],
      "metadata": {
        "colab": {
          "base_uri": "https://localhost:8080/"
        },
        "id": "VlMwztayZdGk",
        "outputId": "87bf2080-c0cb-4bd1-d2c9-e65c0c442944"
      },
      "execution_count": null,
      "outputs": [
        {
          "output_type": "stream",
          "name": "stdout",
          "text": [
            "('bobbi brown', 'dior', 'forever21', 'smashbox', 'twofaced', 'hm')\n"
          ]
        }
      ]
    },
    {
      "cell_type": "code",
      "source": [
        "#The count() method returns the number of times a specified value appears in the tuple.\n",
        "a=('bobbi brown','dior','forever21','smashbox', 'twofaced', 'hm','smashbox', 'twofaced', 'hm')\n",
        "x=a.count('hm')\n",
        "print(x)"
      ],
      "metadata": {
        "colab": {
          "base_uri": "https://localhost:8080/"
        },
        "id": "FudQrw2SapKT",
        "outputId": "357dc3bc-2eaf-4067-eb0f-6b87304c96af"
      },
      "execution_count": null,
      "outputs": [
        {
          "output_type": "stream",
          "name": "stdout",
          "text": [
            "2\n"
          ]
        }
      ]
    },
    {
      "cell_type": "code",
      "source": [
        "#\tSearches the tuple for a specified value and returns the position of where it was found\n",
        "a=('bobbi brown','dior','forever21','dior')\n",
        "print(a.index('dior'))"
      ],
      "metadata": {
        "colab": {
          "base_uri": "https://localhost:8080/"
        },
        "id": "4YIf99bDbNsk",
        "outputId": "530c7e13-a45b-4d92-8131-21e72ca93ee5"
      },
      "execution_count": null,
      "outputs": [
        {
          "output_type": "stream",
          "name": "stdout",
          "text": [
            "1\n"
          ]
        }
      ]
    }
  ]
}