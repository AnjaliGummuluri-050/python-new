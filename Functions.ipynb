{
  "nbformat": 4,
  "nbformat_minor": 0,
  "metadata": {
    "colab": {
      "name": "Functions.ipynb",
      "provenance": [],
      "collapsed_sections": [],
      "authorship_tag": "ABX9TyO9DSUDcZShh5n0I64Q2I8P",
      "include_colab_link": true
    },
    "kernelspec": {
      "name": "python3",
      "display_name": "Python 3"
    },
    "language_info": {
      "name": "python"
    }
  },
  "cells": [
    {
      "cell_type": "markdown",
      "metadata": {
        "id": "view-in-github",
        "colab_type": "text"
      },
      "source": [
        "<a href=\"https://colab.research.google.com/github/AnjaliGummuluri-050/python-new/blob/Module2/Functions.ipynb\" target=\"_parent\"><img src=\"https://colab.research.google.com/assets/colab-badge.svg\" alt=\"Open In Colab\"/></a>"
      ]
    },
    {
      "cell_type": "code",
      "execution_count": null,
      "metadata": {
        "colab": {
          "base_uri": "https://localhost:8080/"
        },
        "id": "6y_3aDNiU50d",
        "outputId": "098defd4-2429-4a58-a825-858477fa52f5"
      },
      "outputs": [
        {
          "output_type": "stream",
          "name": "stdout",
          "text": [
            "hello\n",
            "i think this\n",
            "is a sentence\n"
          ]
        }
      ],
      "source": [
        "def func():\n",
        "  print(\"hello\")\n",
        "  print(\"\"\"i think this\n",
        "is a sentence\"\"\")\n",
        "func()"
      ]
    },
    {
      "cell_type": "code",
      "source": [
        "def func(n):\n",
        "  a=n+1\n",
        "  print(a)\n",
        "def newfunc(s):\n",
        "  print(s+\" wow\")\n",
        "k=int(input())\n",
        "m=str(input())\n",
        "func(k)\n",
        "newfunc(m)"
      ],
      "metadata": {
        "colab": {
          "base_uri": "https://localhost:8080/"
        },
        "id": "j-u9y6_UX7kH",
        "outputId": "51cc44da-429c-470e-ee33-cd2bdbcda46a"
      },
      "execution_count": null,
      "outputs": [
        {
          "output_type": "stream",
          "name": "stdout",
          "text": [
            "9\n",
            "oh\n",
            "10\n",
            "oh wow\n"
          ]
        }
      ]
    },
    {
      "cell_type": "code",
      "source": [
        "def voting(name,age,gender):\n",
        "  print(\"My name is {}, I am {} years old. Gender: {}\".format(name,age,gender))\n",
        "  if(age>=18):\n",
        "   print(\"Eligible to vote\")\n",
        "  else:\n",
        "    print(\"Not eligible\")\n",
        "k=str(input(\"Enter your name\\n\"))\n",
        "l=int(input(\"Enter your age\\n\"))\n",
        "m=str(input(\"Enter your gender\\n\"))\n",
        "voting(k,l,m)"
      ],
      "metadata": {
        "colab": {
          "base_uri": "https://localhost:8080/"
        },
        "id": "LjXLeulCY1SO",
        "outputId": "8cab15ac-3ad8-4b16-d565-9a2c9fa3d34e"
      },
      "execution_count": null,
      "outputs": [
        {
          "output_type": "stream",
          "name": "stdout",
          "text": [
            "Enter your name\n",
            "anjali\n",
            "Enter your age\n",
            "18\n",
            "Enter your gender\n",
            "female\n",
            "My name is anjali, I am 18 years old. Gender: female\n",
            "Eligible to vote\n"
          ]
        }
      ]
    },
    {
      "cell_type": "code",
      "source": [
        "def my_function(*kids):\n",
        "  print(\"The youngest child is \" + kids[2])\n",
        "\n",
        "my_function(\"C\", \"B\", \"A\")"
      ],
      "metadata": {
        "colab": {
          "base_uri": "https://localhost:8080/"
        },
        "id": "-oVOBZYVcZs2",
        "outputId": "e3577c28-f36a-4b2c-df81-d2e325212cf1"
      },
      "execution_count": 1,
      "outputs": [
        {
          "output_type": "stream",
          "name": "stdout",
          "text": [
            "The youngest child is A\n"
          ]
        }
      ]
    },
    {
      "cell_type": "markdown",
      "source": [
        "If the number of arguments is unknown, add a * before the parameter name"
      ],
      "metadata": {
        "id": "sxmsaiHedJGl"
      }
    },
    {
      "cell_type": "code",
      "source": [
        "def func(*pens):\n",
        "  print(\"I need to buy \"+str(pens[3])+\" pens for tomorrow\")\n",
        "func(1,2,3,4)"
      ],
      "metadata": {
        "colab": {
          "base_uri": "https://localhost:8080/"
        },
        "id": "dWnaLH9jco_l",
        "outputId": "426f1b70-b12a-455d-84b3-dedafa4f3217"
      },
      "execution_count": null,
      "outputs": [
        {
          "output_type": "stream",
          "name": "stdout",
          "text": [
            "I need to buy 4 pens for tomorrow\n"
          ]
        }
      ]
    },
    {
      "cell_type": "code",
      "source": [
        "def my_function(**kid):\n",
        "  print(\"His last name is \" + kid[\"lname\"])\n",
        "\n",
        "my_function(fname = \"A\", lname = \"Refsnes\")"
      ],
      "metadata": {
        "colab": {
          "base_uri": "https://localhost:8080/"
        },
        "id": "se-7OZqwdKPV",
        "outputId": "34808261-f8a9-46a9-c502-cbdcd3e4c4fa"
      },
      "execution_count": 2,
      "outputs": [
        {
          "output_type": "stream",
          "name": "stdout",
          "text": [
            "His last name is Refsnes\n"
          ]
        }
      ]
    },
    {
      "cell_type": "code",
      "source": [
        "def my_function(food):\n",
        "  for x in food:\n",
        "    print(x)\n",
        "\n",
        "fruits = [\"apple\", \"banana\", \"cherry\"]\n",
        "\n",
        "my_function(fruits)\n"
      ],
      "metadata": {
        "id": "ResOEEl6lrSO",
        "colab": {
          "base_uri": "https://localhost:8080/"
        },
        "outputId": "edb39c8b-5d4e-4991-c872-7f14048f394e"
      },
      "execution_count": 3,
      "outputs": [
        {
          "output_type": "stream",
          "name": "stdout",
          "text": [
            "apple\n",
            "banana\n",
            "cherry\n"
          ]
        }
      ]
    },
    {
      "cell_type": "code",
      "source": [
        "def tri_recursion(k):\n",
        "  if(k > 0):\n",
        "    result = k + tri_recursion(k - 1)\n",
        "    print(result)\n",
        "  else:\n",
        "    result = 0\n",
        "  return result\n",
        "\n",
        "print(\"\\n\\nRecursion Example Results\")\n",
        "tri_recursion(6)"
      ],
      "metadata": {
        "colab": {
          "base_uri": "https://localhost:8080/"
        },
        "id": "nWirprTGk3ws",
        "outputId": "a424dca2-d7ab-4bcc-fc38-b3c108b8ef38"
      },
      "execution_count": 4,
      "outputs": [
        {
          "output_type": "stream",
          "name": "stdout",
          "text": [
            "\n",
            "\n",
            "Recursion Example Results\n",
            "1\n",
            "3\n",
            "6\n",
            "10\n",
            "15\n",
            "21\n"
          ]
        },
        {
          "output_type": "execute_result",
          "data": {
            "text/plain": [
              "21"
            ]
          },
          "metadata": {},
          "execution_count": 4
        }
      ]
    },
    {
      "cell_type": "code",
      "source": [
        ""
      ],
      "metadata": {
        "id": "kgKCuBnmk_X8"
      },
      "execution_count": null,
      "outputs": []
    }
  ]
}