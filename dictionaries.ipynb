{
  "nbformat": 4,
  "nbformat_minor": 0,
  "metadata": {
    "colab": {
      "name": "dictionaries.ipynb",
      "provenance": [],
      "collapsed_sections": [],
      "authorship_tag": "ABX9TyOuDbStpPzXZ0phNmBNN8+T",
      "include_colab_link": true
    },
    "kernelspec": {
      "name": "python3",
      "display_name": "Python 3"
    },
    "language_info": {
      "name": "python"
    }
  },
  "cells": [
    {
      "cell_type": "markdown",
      "metadata": {
        "id": "view-in-github",
        "colab_type": "text"
      },
      "source": [
        "<a href=\"https://colab.research.google.com/github/AnjaliGummuluri-050/python-new/blob/Module2/dictionaries.ipynb\" target=\"_parent\"><img src=\"https://colab.research.google.com/assets/colab-badge.svg\" alt=\"Open In Colab\"/></a>"
      ]
    },
    {
      "cell_type": "code",
      "execution_count": null,
      "metadata": {
        "colab": {
          "base_uri": "https://localhost:8080/"
        },
        "id": "fk5-L7dOg5JS",
        "outputId": "447686d6-f593-436c-b6b7-644776c685a3"
      },
      "outputs": [
        {
          "output_type": "stream",
          "name": "stdout",
          "text": [
            "Enter your name: anj\n",
            "Enter your CGPA4\n",
            "Enter your phone number: 444\n",
            "Enter your section: w\n",
            "{'Name': 'anj', 'CGPA': 4, 'Ph No.': 444, 'Section': 'w'}\n",
            "4\n",
            "4\n"
          ]
        }
      ],
      "source": [
        "thisdict={\n",
        "    \"Name\":str(input(\"Enter your name: \")),\n",
        "    \"CGPA\":int(input(\"Enter your CGPA\")),\n",
        "    \"Ph No.\":int(input(\"Enter your phone number: \")),\n",
        "    \"Section\":str(input(\"Enter your section: \")),\n",
        "}\n",
        "print(thisdict)\n",
        "print(thisdict['CGPA'])\n",
        "print(len(thisdict))"
      ]
    },
    {
      "cell_type": "code",
      "source": [
        "thisdict = {\n",
        "  \"brand\": \"Ford\",\n",
        "  \"model\": \"Mustang\",\n",
        "  \"year\": 1964,\n",
        "  \"year\": 2020\n",
        "}\n",
        "print(thisdict)\n"
      ],
      "metadata": {
        "colab": {
          "base_uri": "https://localhost:8080/"
        },
        "id": "lXJ_Q6ALiq66",
        "outputId": "abddd407-55d0-4773-eec2-ee294f7d894d"
      },
      "execution_count": null,
      "outputs": [
        {
          "output_type": "stream",
          "name": "stdout",
          "text": [
            "{'brand': 'Ford', 'model': 'Mustang', 'year': 2020}\n"
          ]
        }
      ]
    },
    {
      "cell_type": "code",
      "source": [
        "thisdict={\n",
        "    \"Name\":str(input(\"Enter your name: \")),\n",
        "    \"CGPA\":int(input(\"Enter your CGPA\")),\n",
        "    \"Ph No.\":int(input(\"Enter your phone number: \")),\n",
        "    \"Section\":str(input(\"Enter your section: \")),\n",
        "}\n",
        "x=thisdict.get('Ph No.')\n",
        "print(x)\n",
        "print(thisdict.keys())"
      ],
      "metadata": {
        "colab": {
          "base_uri": "https://localhost:8080/"
        },
        "id": "5zCSvu8WjEja",
        "outputId": "abea6d83-ab5e-4bb3-9878-341ebfeb0352"
      },
      "execution_count": null,
      "outputs": [
        {
          "output_type": "stream",
          "name": "stdout",
          "text": [
            "Enter your name: sadad\n",
            "Enter your CGPA7\n",
            "Enter your phone number: 76856567\n",
            "Enter your section: yu\n",
            "76856567\n",
            "dict_keys(['Name', 'CGPA', 'Ph No.', 'Section'])\n"
          ]
        }
      ]
    },
    {
      "cell_type": "code",
      "source": [
        "student={\n",
        "    \"Name\":str(input()),\n",
        "    \"Age\": int(input()),\n",
        "    \"Number\":int(input())\n",
        "}\n",
        "x=student.keys()\n",
        "print(x)\n",
        "student[\"cgpa\"]=int(input())\n",
        "print(x)\n"
      ],
      "metadata": {
        "colab": {
          "base_uri": "https://localhost:8080/"
        },
        "id": "35ouPgdokpaq",
        "outputId": "3ebe55fd-d97f-49e0-f34e-6cd47fc0061d"
      },
      "execution_count": null,
      "outputs": [
        {
          "output_type": "stream",
          "name": "stdout",
          "text": [
            "dz\n",
            "44\n",
            "4432\n",
            "dict_keys(['Name', 'Age', 'Number'])\n",
            "45\n",
            "dict_keys(['Name', 'Age', 'Number', 'cgpa'])\n"
          ]
        }
      ]
    },
    {
      "cell_type": "code",
      "source": [
        "thisdict={\n",
        "    \"Name\":\"Anjali\",\n",
        "    \"Roll\":2,\n",
        "    \"Car\":\"Mustang\"\n",
        "}\n",
        "print(thisdict.keys())\n",
        "print(thisdict.values())\n",
        "thisdict.update({\"color\":\"red\"})\n",
        "print(thisdict)\n",
        "thisdict.pop(\"Name\")\n",
        "print(thisdict)\n",
        "thisdict.popitem()\n",
        "print(thisdict)"
      ],
      "metadata": {
        "colab": {
          "base_uri": "https://localhost:8080/"
        },
        "id": "dq4ycY1zJizX",
        "outputId": "9441117a-61eb-471e-d8b0-8dd6f086e957"
      },
      "execution_count": 1,
      "outputs": [
        {
          "output_type": "stream",
          "name": "stdout",
          "text": [
            "dict_keys(['Name', 'Roll', 'Car'])\n",
            "dict_values(['GAGA', 2, 'Mustang'])\n",
            "{'Name': 'GAGA', 'Roll': 2, 'Car': 'Mustang', 'color': 'red'}\n",
            "{'Roll': 2, 'Car': 'Mustang', 'color': 'red'}\n",
            "{'Roll': 2, 'Car': 'Mustang'}\n"
          ]
        }
      ]
    },
    {
      "cell_type": "code",
      "source": [
        "thisdict={\n",
        "    \"Name\":\"Anjali\",\n",
        "    \"Roll\":2,\n",
        "    \"Car\":\"Mustang\"\n",
        "}\n",
        "del thisdict[\"Car\"]\n",
        "print(thisdict)"
      ],
      "metadata": {
        "colab": {
          "base_uri": "https://localhost:8080/"
        },
        "id": "MNASYY1mKesT",
        "outputId": "7827c051-51cc-41d1-f419-32813c92baa1"
      },
      "execution_count": 2,
      "outputs": [
        {
          "output_type": "stream",
          "name": "stdout",
          "text": [
            "{'Name': 'Anjali', 'Roll': 2}\n"
          ]
        }
      ]
    },
    {
      "cell_type": "code",
      "source": [
        "thisdict={\n",
        "    \"Name\":\"Anjali\",\n",
        "    \"Roll\":2,\n",
        "    \"Car\":\"Mustang\"\n",
        "}\n",
        "for x, y in thisdict.items():\n",
        "  print(x, y)\n",
        "mine=thisdict.copy()\n",
        "yours=dict(thisdict)\n",
        "print(mine)\n",
        "print(yours)"
      ],
      "metadata": {
        "colab": {
          "base_uri": "https://localhost:8080/"
        },
        "id": "AICGNm0UKezQ",
        "outputId": "c28dfe8a-9696-42c3-ff7a-b14d4e39890c"
      },
      "execution_count": 3,
      "outputs": [
        {
          "output_type": "stream",
          "name": "stdout",
          "text": [
            "Name Anjali\n",
            "Roll 2\n",
            "Car Mustang\n",
            "{'Name': 'Anjali', 'Roll': 2, 'Car': 'Mustang'}\n",
            "{'Name': 'Anjali', 'Roll': 2, 'Car': 'Mustang'}\n"
          ]
        }
      ]
    },
    {
      "cell_type": "code",
      "source": [
        "bigd={\n",
        "    \"sibling1\":{\n",
        "        \"Name\":\"Mallika\",\n",
        "        \"Sun Sign\":\"Taurus\",\n",
        "        \"D.O.B\":\"5-13\"\n",
        "    },\n",
        "    \"sibling2\":{\n",
        "        \"Name\":\"Anjali\",\n",
        "        \"Sun Sign\":\"Taurus\",\n",
        "        \"D.O.B\":\"4-27\"\n",
        "    },\n",
        "    \"sibling3\":{\n",
        "        \"Name\":\"Josh\",\n",
        "        \"Sun Sign\":\"Aquarius\",\n",
        "        \"D.O.B\":\"2-10\"\n",
        "    }\n",
        "}\n",
        "print(bigd.items())"
      ],
      "metadata": {
        "colab": {
          "base_uri": "https://localhost:8080/"
        },
        "id": "XqhnH9Q6L2uK",
        "outputId": "76143340-9612-453c-8ab3-671c75ba4276"
      },
      "execution_count": null,
      "outputs": [
        {
          "output_type": "stream",
          "name": "stdout",
          "text": [
            "dict_items([('sibling1', {'Name': 'Mallika', 'Sun Sign': 'Taurus', 'D.O.B': '5-13'}), ('sibling2', {'Name': 'Anjali', 'Sun Sign': 'Taurus', 'D.O.B': '4-27'}), ('sibling3', {'Name': 'Josh', 'Sun Sign': 'Aquarius', 'D.O.B': '2-10'})])\n"
          ]
        }
      ]
    },
    {
      "cell_type": "code",
      "source": [
        "n=int(input())\n",
        "d=dict()\n",
        "for i in range(1,n+1):\n",
        "  d[i]=i*i\n",
        "print(d)"
      ],
      "metadata": {
        "id": "1l-hE38GNab2",
        "colab": {
          "base_uri": "https://localhost:8080/"
        },
        "outputId": "ea5f2030-3b99-4f1e-daaf-68b691b84779"
      },
      "execution_count": null,
      "outputs": [
        {
          "output_type": "stream",
          "name": "stdout",
          "text": [
            "6\n",
            "{1: 1, 2: 4, 3: 9, 4: 16, 5: 25, 6: 36}\n"
          ]
        }
      ]
    }
  ]
}