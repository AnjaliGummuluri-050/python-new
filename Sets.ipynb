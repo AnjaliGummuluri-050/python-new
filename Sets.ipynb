{
  "nbformat": 4,
  "nbformat_minor": 0,
  "metadata": {
    "colab": {
      "name": "Sets.ipynb",
      "provenance": [],
      "authorship_tag": "ABX9TyMfdsSIGIK7CjphN/dNm6XF",
      "include_colab_link": true
    },
    "kernelspec": {
      "name": "python3",
      "display_name": "Python 3"
    },
    "language_info": {
      "name": "python"
    }
  },
  "cells": [
    {
      "cell_type": "markdown",
      "metadata": {
        "id": "view-in-github",
        "colab_type": "text"
      },
      "source": [
        "<a href=\"https://colab.research.google.com/github/AnjaliGummuluri-050/python-new/blob/Module2/Sets.ipynb\" target=\"_parent\"><img src=\"https://colab.research.google.com/assets/colab-badge.svg\" alt=\"Open In Colab\"/></a>"
      ]
    },
    {
      "cell_type": "code",
      "execution_count": null,
      "metadata": {
        "colab": {
          "base_uri": "https://localhost:8080/"
        },
        "id": "KtqSQzi_b556",
        "outputId": "16569258-b4fd-463c-e7d9-84e98101094d"
      },
      "outputs": [
        {
          "output_type": "stream",
          "name": "stdout",
          "text": [
            "{'flowers', 'potatoes'}\n"
          ]
        }
      ],
      "source": [
        "s={'flowers','potatoes'}\n",
        "print(s)"
      ]
    },
    {
      "cell_type": "markdown",
      "source": [
        "Set items can appear in a different order every time you use them, and cannot be referred to by index or key.\n",
        "\n"
      ],
      "metadata": {
        "id": "3Zpl2Ir7dDR8"
      }
    },
    {
      "cell_type": "markdown",
      "source": [
        "Set items are unchangeable, meaning that we cannot change the items after the set has been created."
      ],
      "metadata": {
        "id": "_7MUDD3YdHJ0"
      }
    },
    {
      "cell_type": "markdown",
      "source": [
        "Sets cannot have two items with the same value."
      ],
      "metadata": {
        "id": "5WVImWbPdKMK"
      }
    },
    {
      "cell_type": "code",
      "source": [
        "s={'flowers','potatoes','vanilla','soap','flowers'}\n",
        "print(s)"
      ],
      "metadata": {
        "colab": {
          "base_uri": "https://localhost:8080/"
        },
        "id": "4U1MatCedSt7",
        "outputId": "568782c9-fa9a-4ae4-a29c-baeeee00d9f6"
      },
      "execution_count": null,
      "outputs": [
        {
          "output_type": "stream",
          "name": "stdout",
          "text": [
            "{'vanilla', 'flowers', 'potatoes', 'soap'}\n"
          ]
        }
      ]
    },
    {
      "cell_type": "code",
      "source": [
        "s={'flowers','potatoes','soap','crown'}\n",
        "print(len(s))\n",
        "s.add('orange')\n",
        "print(s)\n",
        "t={'bank','Money'}\n",
        "s.update(t)\n",
        "print(s)"
      ],
      "metadata": {
        "colab": {
          "base_uri": "https://localhost:8080/"
        },
        "id": "OXQQxQVwdfRc",
        "outputId": "01f74490-8470-4dfb-d5a4-5e4d0f82656f"
      },
      "execution_count": 1,
      "outputs": [
        {
          "output_type": "stream",
          "name": "stdout",
          "text": [
            "4\n",
            "{'orange', 'flowers', 'crown', 'potatoes', 'soap'}\n",
            "{'orange', 'flowers', 'crown', 'bank', 'potatoes', 'Money', 'soap'}\n"
          ]
        }
      ]
    },
    {
      "cell_type": "code",
      "source": [
        "s={'flowers','potatoes','soap','crown'}\n",
        "v=['hand','foot']\n",
        "s.update(v)\n",
        "print(s)\n",
        "print(s.pop())\n",
        "print(s)"
      ],
      "metadata": {
        "colab": {
          "base_uri": "https://localhost:8080/"
        },
        "id": "wNcOYoeP1y24",
        "outputId": "b54d17e9-d3db-46d2-da3c-eb452a70da5a"
      },
      "execution_count": null,
      "outputs": [
        {
          "output_type": "stream",
          "name": "stdout",
          "text": [
            "{'crown', 'hand', 'foot', 'soap', 'flowers', 'potatoes'}\n",
            "crown\n",
            "{'hand', 'foot', 'soap', 'flowers', 'potatoes'}\n"
          ]
        }
      ]
    },
    {
      "cell_type": "code",
      "source": [
        "s={'flowers','potatoes','soap','crown'}\n",
        "s.remove('crown')\n",
        "print(s)\n",
        "s.discard('flowers')\n",
        "print(s)"
      ],
      "metadata": {
        "colab": {
          "base_uri": "https://localhost:8080/"
        },
        "id": "3vsz_rI52gFB",
        "outputId": "4290e9d7-8b04-419a-d48c-9c44635290e6"
      },
      "execution_count": null,
      "outputs": [
        {
          "output_type": "stream",
          "name": "stdout",
          "text": [
            "{'flowers', 'soap', 'potatoes'}\n",
            "{'soap', 'potatoes'}\n"
          ]
        }
      ]
    },
    {
      "cell_type": "markdown",
      "source": [
        " clear() method empties the set\n",
        " del keyword will delete the set completely"
      ],
      "metadata": {
        "id": "ITXoqvgE282n"
      }
    },
    {
      "cell_type": "code",
      "source": [
        "set1={'anjali','gummuluri','mallika'}\n",
        "set2={1,3,5}\n",
        "x=set1.union(set2)\n",
        "print(x)"
      ],
      "metadata": {
        "colab": {
          "base_uri": "https://localhost:8080/"
        },
        "id": "Fv8bczCS3Dv7",
        "outputId": "abee54cc-7d99-4164-ffda-d8981fc0a8d2"
      },
      "execution_count": null,
      "outputs": [
        {
          "output_type": "stream",
          "name": "stdout",
          "text": [
            "{1, 'anjali', 3, 5, 'mallika', 'gummuluri'}\n"
          ]
        }
      ]
    },
    {
      "cell_type": "code",
      "source": [
        "set1={'anjali','gummuluri','mallika'}\n",
        "set2={1,3,5,6}\n",
        "set1.update(set2)\n",
        "print(set1)"
      ],
      "metadata": {
        "colab": {
          "base_uri": "https://localhost:8080/"
        },
        "id": "boTEuKXc3skz",
        "outputId": "30c62654-f2bd-4ca9-fc0a-34cb690d5393"
      },
      "execution_count": null,
      "outputs": [
        {
          "output_type": "stream",
          "name": "stdout",
          "text": [
            "{1, 'anjali', 3, 5, 6, 'mallika', 'gummuluri'}\n"
          ]
        }
      ]
    },
    {
      "cell_type": "code",
      "source": [
        "set1={'anjali','gummuluri','mallika'}\n",
        "set2={'p',1,2,3,4,5,'anjali'}\n",
        "r=set1.union(set2)\n",
        "print(r)\n",
        "x=set1.intersection(set2)\n",
        "print(x)\n",
        "y=set1.symmetric_difference(set2)\n",
        "print(y)"
      ],
      "metadata": {
        "colab": {
          "base_uri": "https://localhost:8080/"
        },
        "id": "MOTzC1uc4Qda",
        "outputId": "21025116-4345-46e9-b502-ee59f8bfecf5"
      },
      "execution_count": null,
      "outputs": [
        {
          "output_type": "stream",
          "name": "stdout",
          "text": [
            "{1, 2, 3, 4, 5, 'mallika', 'anjali', 'p', 'gummuluri'}\n",
            "{'anjali'}\n",
            "{1, 2, 3, 4, 5, 'p', 'gummuluri', 'mallika'}\n"
          ]
        }
      ]
    },
    {
      "cell_type": "code",
      "source": [
        ""
      ],
      "metadata": {
        "id": "V5Eg_X15UsuM"
      },
      "execution_count": null,
      "outputs": []
    }
  ]
}