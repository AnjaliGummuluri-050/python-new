{
  "nbformat": 4,
  "nbformat_minor": 0,
  "metadata": {
    "colab": {
      "name": "List.ipynb",
      "provenance": [],
      "collapsed_sections": [],
      "authorship_tag": "ABX9TyMq9YuJfihM1IveyTiMHqaA",
      "include_colab_link": true
    },
    "kernelspec": {
      "name": "python3",
      "display_name": "Python 3"
    },
    "language_info": {
      "name": "python"
    }
  },
  "cells": [
    {
      "cell_type": "markdown",
      "metadata": {
        "id": "view-in-github",
        "colab_type": "text"
      },
      "source": [
        "<a href=\"https://colab.research.google.com/github/AnjaliGummuluri-050/python-new/blob/Module2/List.ipynb\" target=\"_parent\"><img src=\"https://colab.research.google.com/assets/colab-badge.svg\" alt=\"Open In Colab\"/></a>"
      ]
    },
    {
      "cell_type": "code",
      "execution_count": null,
      "metadata": {
        "colab": {
          "base_uri": "https://localhost:8080/"
        },
        "id": "YDHmia7G4CKh",
        "outputId": "049cf48f-dedc-4f66-8ae2-9c9fc6b0832f"
      },
      "outputs": [
        {
          "output_type": "stream",
          "name": "stdout",
          "text": [
            "['apple', 'pineapple', 'orange', 'mango', 'banana']\n",
            "['apple', 'banana', 'mango', 'orange', 'pineapple']\n",
            "['pineapple', 'orange', 'mango', 'banana', 'apple']\n"
          ]
        }
      ],
      "source": [
        "fruit=['apple', 'pineapple', 'orange', 'mango', 'banana']\n",
        "#index starts from 0\n",
        "print(fruit[0:5])\n",
        "fruit.sort()\n",
        "print(fruit)\n",
        "fruit.reverse()\n",
        "print(fruit)"
      ]
    },
    {
      "cell_type": "code",
      "source": [
        "fruits = [\"apple\", \"banana\", \"cherry\"]\n",
        "\n",
        "fruits[0]=\"kiwi\"\n",
        "print(fruits)"
      ],
      "metadata": {
        "colab": {
          "base_uri": "https://localhost:8080/"
        },
        "id": "h7OnCgqIUHbr",
        "outputId": "0abee504-b6aa-4a00-ef43-e700ac8d8bd4"
      },
      "execution_count": null,
      "outputs": [
        {
          "output_type": "stream",
          "name": "stdout",
          "text": [
            "['kiwi', 'banana', 'cherry']\n"
          ]
        }
      ]
    },
    {
      "cell_type": "code",
      "source": [
        "fruit=['apple', 'pineapple', 'orange', 'mango', 'banana']\n",
        "print(fruit[0],fruit[1])"
      ],
      "metadata": {
        "colab": {
          "base_uri": "https://localhost:8080/"
        },
        "id": "gHzJ1efh5uGi",
        "outputId": "d974f4e5-7a9d-4902-b9fb-438064c16f61"
      },
      "execution_count": null,
      "outputs": [
        {
          "output_type": "stream",
          "name": "stdout",
          "text": [
            "apple pineapple\n"
          ]
        }
      ]
    },
    {
      "cell_type": "code",
      "source": [
        "fruit=['apple', 'pineapple', 'orange', 'mango', 'banana']\n",
        "print(fruit[0])\n",
        "print(fruit[4])"
      ],
      "metadata": {
        "colab": {
          "base_uri": "https://localhost:8080/"
        },
        "id": "JN5xJCKh5oat",
        "outputId": "97ea45eb-0410-4746-f4a2-044290d0cc68"
      },
      "execution_count": null,
      "outputs": [
        {
          "output_type": "stream",
          "name": "stdout",
          "text": [
            "apple\n",
            "banana\n"
          ]
        }
      ]
    },
    {
      "cell_type": "code",
      "source": [
        "fruit=['apple', 'pineapple', 'orange', 'mango', 'banana']\n",
        "print(fruit[0:2])"
      ],
      "metadata": {
        "colab": {
          "base_uri": "https://localhost:8080/"
        },
        "id": "e0-57qyM6CqH",
        "outputId": "d6fbd6b9-6b56-4da6-d9e7-212b8ddcd5b1"
      },
      "execution_count": null,
      "outputs": [
        {
          "output_type": "stream",
          "name": "stdout",
          "text": [
            "['apple', 'pineapple']\n"
          ]
        }
      ]
    },
    {
      "cell_type": "code",
      "source": [
        "fruit=['apple', 'pineapple', 'orange', 'mango', 'banana']\n",
        "print(fruit[-1]) #last index\n",
        "print(fruit[0-3])\n",
        "print(fruit[-4])\n",
        "print(fruit[:3])\n",
        "print(fruit[3:])"
      ],
      "metadata": {
        "colab": {
          "base_uri": "https://localhost:8080/"
        },
        "id": "YsP4-Y_Z6MGE",
        "outputId": "0c897078-164f-40c9-9bac-eb035bba870b"
      },
      "execution_count": null,
      "outputs": [
        {
          "output_type": "stream",
          "name": "stdout",
          "text": [
            "['pineapple', 'orange', 'mango']\n",
            "orange\n",
            "pineapple\n",
            "['apple', 'pineapple', 'orange']\n",
            "['mango', 'banana']\n"
          ]
        }
      ]
    },
    {
      "cell_type": "markdown",
      "source": [
        "Add/Change List Elements"
      ],
      "metadata": {
        "id": "AqFjPvpfHgFW"
      }
    },
    {
      "cell_type": "code",
      "source": [
        "a=[1,2,3,4,5]\n",
        "a.append(7)\n",
        "a.extend([10,11,12])\n",
        "a.insert(2,5)\n",
        "print(a)"
      ],
      "metadata": {
        "colab": {
          "base_uri": "https://localhost:8080/"
        },
        "id": "A0V2I89D8N_2",
        "outputId": "a5e6d30f-d715-4ce5-c257-8578ee898841"
      },
      "execution_count": null,
      "outputs": [
        {
          "output_type": "stream",
          "name": "stdout",
          "text": [
            "[1, 2, 5, 3, 4, 5, 7, 10, 11, 12]\n"
          ]
        }
      ]
    },
    {
      "cell_type": "code",
      "source": [
        "a=['start',[0,1,2], 'end']\n",
        "print(a[:2])\n",
        "print(a[1][2])\n",
        "print(a[:])"
      ],
      "metadata": {
        "colab": {
          "base_uri": "https://localhost:8080/"
        },
        "id": "urCsPZfN9V5u",
        "outputId": "81e3c429-6435-4720-9ea2-c470b39bd5c0"
      },
      "execution_count": null,
      "outputs": [
        {
          "output_type": "stream",
          "name": "stdout",
          "text": [
            "['start', [0, 1, 2]]\n",
            "2\n",
            "['start', [0, 1, 2], 'end']\n"
          ]
        }
      ]
    },
    {
      "cell_type": "code",
      "source": [
        "odd = [2, 4, 6, 8]\n",
        "odd[0]=1\n",
        "odd[1:4]=[3,5,7]\n",
        "print(odd)\n",
        "odd.append(9)\n",
        "print(odd)\n",
        "print(odd + [9, 7, 5])"
      ],
      "metadata": {
        "colab": {
          "base_uri": "https://localhost:8080/"
        },
        "id": "60rovi8y94XV",
        "outputId": "8ac4e9ac-67d7-4ddb-840a-f6f76d2ae0dd"
      },
      "execution_count": null,
      "outputs": [
        {
          "output_type": "stream",
          "name": "stdout",
          "text": [
            "[1, 3, 5, 7]\n",
            "[1, 3, 5, 7, 9]\n",
            "[1, 3, 5, 7, 9, 9, 7, 5]\n"
          ]
        }
      ]
    },
    {
      "cell_type": "markdown",
      "source": [
        "Delete List Elements"
      ],
      "metadata": {
        "id": "Pzb4bR2NAJS-"
      }
    },
    {
      "cell_type": "code",
      "source": [
        "list = ['p', 'r', 'o', 'b', 'l', 'e', 'm']\n",
        "del list[2]\n",
        "print(list)\n",
        "del list[1:5]\n",
        "print(list)\n",
        "list.remove(list[0]) #or list.remove('p')\n",
        "print(list)\n",
        "list.clear()\n",
        "print(list)"
      ],
      "metadata": {
        "colab": {
          "base_uri": "https://localhost:8080/"
        },
        "id": "j3Wk1pI9ALSt",
        "outputId": "89638058-38cb-4d62-b60d-a18276cfaa35"
      },
      "execution_count": null,
      "outputs": [
        {
          "output_type": "stream",
          "name": "stdout",
          "text": [
            "['p', 'r', 'b', 'l', 'e', 'm']\n",
            "['p', 'm']\n",
            "['m']\n",
            "[]\n"
          ]
        }
      ]
    },
    {
      "cell_type": "code",
      "source": [
        "list = ['p', 'r', 'o', 'b', 'l', 'e', 'm']\n",
        "list.pop(2) #removes string at 2nd index\n",
        "list.pop()\n",
        "print(list)"
      ],
      "metadata": {
        "colab": {
          "base_uri": "https://localhost:8080/"
        },
        "id": "RreUyLy-Lpu2",
        "outputId": "faa7f618-b4fc-4e13-d3f5-ec83cc04e66a"
      },
      "execution_count": null,
      "outputs": [
        {
          "output_type": "stream",
          "name": "stdout",
          "text": [
            "['p', 'r', 'b', 'l', 'e']\n"
          ]
        }
      ]
    },
    {
      "cell_type": "markdown",
      "source": [
        "Iterating in lists"
      ],
      "metadata": {
        "id": "ipL4UJZtG0Cd"
      }
    },
    {
      "cell_type": "code",
      "source": [
        "for i in ['apple','banana','mango']:\n",
        "  print(\"I like\",i)"
      ],
      "metadata": {
        "colab": {
          "base_uri": "https://localhost:8080/"
        },
        "id": "1xEoGoHdChyt",
        "outputId": "bd97b1d9-cf34-4ea0-d441-b6142ad122af"
      },
      "execution_count": null,
      "outputs": [
        {
          "output_type": "stream",
          "name": "stdout",
          "text": [
            "I like apple\n",
            "I like banana\n",
            "I like mango\n"
          ]
        }
      ]
    },
    {
      "cell_type": "markdown",
      "source": [
        "Sort List Elements\n"
      ],
      "metadata": {
        "id": "YdU_j2YwKt-U"
      }
    },
    {
      "cell_type": "code",
      "source": [
        "fruit=['apple', 'pineapple', 'orange', 'mango', 'banana']\n",
        "fruit.sort()\n",
        "print(fruit)\n",
        "print(len(fruit[4]))\n",
        "print(len(fruit[:4]))\n",
        "print(len(fruit))"
      ],
      "metadata": {
        "colab": {
          "base_uri": "https://localhost:8080/"
        },
        "id": "ERTMJrLZKxur",
        "outputId": "84d413b9-bd07-48ed-e717-8d61fa9089dc"
      },
      "execution_count": null,
      "outputs": [
        {
          "output_type": "stream",
          "name": "stdout",
          "text": [
            "['apple', 'banana', 'mango', 'orange', 'pineapple']\n",
            "9\n",
            "4\n",
            "5\n"
          ]
        }
      ]
    },
    {
      "cell_type": "markdown",
      "source": [
        "Reverse List Elements"
      ],
      "metadata": {
        "id": "Z9B1OJ5wK5j8"
      }
    },
    {
      "cell_type": "code",
      "source": [
        "fruit=['apple', 'pineapple', 'orange', 'mango', 'banana']\n",
        "fruit.reverse()\n",
        "print(fruit)\n",
        "b=fruit.copy()\n",
        "print(b)\n"
      ],
      "metadata": {
        "colab": {
          "base_uri": "https://localhost:8080/"
        },
        "id": "4ks1gYArK8DE",
        "outputId": "6a269622-20b9-4bce-fabf-60e59fc9772f"
      },
      "execution_count": null,
      "outputs": [
        {
          "output_type": "stream",
          "name": "stdout",
          "text": [
            "['banana', 'mango', 'orange', 'pineapple', 'apple']\n",
            "['banana', 'mango', 'orange', 'pineapple', 'apple']\n"
          ]
        }
      ]
    },
    {
      "cell_type": "code",
      "source": [
        "thislist = [\"apple\", \"banana\", \"cherry\"]\n",
        "print(len(thislist))\n",
        "for i in range(len(thislist)):\n",
        "  print(thislist[i])"
      ],
      "metadata": {
        "colab": {
          "base_uri": "https://localhost:8080/"
        },
        "id": "7wMQCQlJACLi",
        "outputId": "a413380c-4233-4415-b0fd-ff751feaa0b0"
      },
      "execution_count": null,
      "outputs": [
        {
          "output_type": "stream",
          "name": "stdout",
          "text": [
            "3\n",
            "apple\n",
            "banana\n",
            "cherry\n"
          ]
        }
      ]
    },
    {
      "cell_type": "code",
      "source": [
        "thislist = [\"apple\", \"banana\", \"cherry\"]\n",
        "i = 0\n",
        "while i < len(thislist):\n",
        "  print(thislist[i])\n",
        "  i = i + 1"
      ],
      "metadata": {
        "colab": {
          "base_uri": "https://localhost:8080/"
        },
        "id": "X4xFSI73AQdP",
        "outputId": "419564d0-afbc-461e-f145-0ec35c2491b4"
      },
      "execution_count": null,
      "outputs": [
        {
          "output_type": "stream",
          "name": "stdout",
          "text": [
            "apple\n",
            "banana\n",
            "cherry\n"
          ]
        }
      ]
    },
    {
      "cell_type": "code",
      "source": [
        "thislist = [\"apple\", \"banana\", \"cherry\"]\n",
        "[print(x) for x in thislist]"
      ],
      "metadata": {
        "colab": {
          "base_uri": "https://localhost:8080/"
        },
        "id": "qlUwiXqrAYGp",
        "outputId": "2d2a6ebf-a1c9-486a-d9d0-d1255fd5c059"
      },
      "execution_count": null,
      "outputs": [
        {
          "output_type": "stream",
          "name": "stdout",
          "text": [
            "apple\n",
            "banana\n",
            "cherry\n"
          ]
        },
        {
          "output_type": "execute_result",
          "data": {
            "text/plain": [
              "[None, None, None]"
            ]
          },
          "metadata": {},
          "execution_count": 4
        }
      ]
    },
    {
      "cell_type": "markdown",
      "source": [
        "Sort Descending\n"
      ],
      "metadata": {
        "id": "5uqILY-LAi3G"
      }
    },
    {
      "cell_type": "code",
      "source": [
        "thislist = [\"orange\", \"mango\", \"kiwi\", \"pineapple\", \"banana\"]\n",
        "thislist.sort(reverse = True)\n",
        "print(thislist)"
      ],
      "metadata": {
        "colab": {
          "base_uri": "https://localhost:8080/"
        },
        "id": "xDzXKbc8Ajgm",
        "outputId": "267ba28b-905e-4008-dea6-64cbde9718d8"
      },
      "execution_count": null,
      "outputs": [
        {
          "output_type": "stream",
          "name": "stdout",
          "text": [
            "['pineapple', 'orange', 'mango', 'kiwi', 'banana']\n"
          ]
        }
      ]
    },
    {
      "cell_type": "code",
      "source": [
        "lst = []\n",
        "n = int(input(\"Enter number of elements : \"))\n",
        "for i in range(0, n):\n",
        "    ele = int(input())\n",
        "    lst.append(ele) \n",
        "print(lst)"
      ],
      "metadata": {
        "id": "QLCkG9ebvWRA"
      },
      "execution_count": null,
      "outputs": []
    },
    {
      "cell_type": "code",
      "source": [
        "list=[]\n",
        "n=int(input(\"Enter the number of elements in your tuple: \"))\n",
        "for  i in range(0,n):\n",
        "  x=int(input())\n",
        "  list.append(x)\n",
        "print(list)"
      ],
      "metadata": {
        "colab": {
          "base_uri": "https://localhost:8080/"
        },
        "id": "xpUt-OYIvcIz",
        "outputId": "515a6087-6c2f-41d2-96e1-a2a852fe1e00"
      },
      "execution_count": null,
      "outputs": [
        {
          "output_type": "stream",
          "name": "stdout",
          "text": [
            "Enter the number of elements in your tuple: 2\n",
            "1\n",
            "2\n",
            "[1, 2]\n"
          ]
        }
      ]
    }
  ]
}