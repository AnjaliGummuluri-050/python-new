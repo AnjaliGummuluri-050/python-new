{
  "nbformat": 4,
  "nbformat_minor": 0,
  "metadata": {
    "colab": {
      "name": "Assignment1.ipynb",
      "provenance": [],
      "collapsed_sections": [],
      "authorship_tag": "ABX9TyP0rFZblEaxNRzkEzNquvEv",
      "include_colab_link": true
    },
    "kernelspec": {
      "name": "python3",
      "display_name": "Python 3"
    },
    "language_info": {
      "name": "python"
    }
  },
  "cells": [
    {
      "cell_type": "markdown",
      "metadata": {
        "id": "view-in-github",
        "colab_type": "text"
      },
      "source": [
        "<a href=\"https://colab.research.google.com/github/AnjaliGummuluri-050/python-new/blob/Module1/Assignment1.ipynb\" target=\"_parent\"><img src=\"https://colab.research.google.com/assets/colab-badge.svg\" alt=\"Open In Colab\"/></a>"
      ]
    },
    {
      "cell_type": "code",
      "source": [
        "#Accept input from user and store it in variable and print the value\n",
        "a=int(input())\n",
        "print(a)\n",
        "b=str(input())\n",
        "print(b)"
      ],
      "metadata": {
        "colab": {
          "base_uri": "https://localhost:8080/"
        },
        "id": "8y0zpaMIoBfn",
        "outputId": "fc57a0b1-a6b0-4998-c1d4-fa4ee88a54a9"
      },
      "execution_count": null,
      "outputs": [
        {
          "output_type": "stream",
          "name": "stdout",
          "text": [
            "4\n",
            "4\n",
            "book\n",
            "book\n"
          ]
        }
      ]
    },
    {
      "cell_type": "code",
      "execution_count": null,
      "metadata": {
        "id": "43E_0xebnpT6",
        "colab": {
          "base_uri": "https://localhost:8080/"
        },
        "outputId": "9991b3b0-647e-45fb-81fa-1953d6d80db8"
      },
      "outputs": [
        {
          "output_type": "stream",
          "name": "stdout",
          "text": [
            "I need 10 bats and 20 balls for the game this evening\n",
            "I wile gift her books and pens\n",
            "For only 49.00 dollars!\n"
          ]
        }
      ],
      "source": [
        "#Use of print statements and use of (.format )for printing different data types.\n",
        "a=10\n",
        "b=20\n",
        "c='books'\n",
        "d='pens'\n",
        "print(\"I need {} bats and {} balls for the game this evening\".format(a,b))\n",
        "print(\"I wile gift her {} and {}\".format(c,d))\n",
        "line = \"For only {price:.2f} dollars!\"\n",
        "print(line.format(price = 49))"
      ]
    },
    {
      "cell_type": "code",
      "source": [
        "#Take 2 numbers as user input and add, multiply, divide, subtract, remainder and print the output (Same operations on floating point input as well)\n",
        "a=int(input())\n",
        "b=int(input())\n",
        "print(a+b)\n",
        "print(a-b)\n",
        "print(a/b)\n",
        "print(a*b)\n",
        "print(a%b)\n",
        "c=float(input())\n",
        "d=float(input())\n",
        "print(c+d)\n",
        "print(c-d)\n",
        "print(c/d)\n",
        "print(c*d)\n",
        "print(c%d)"
      ],
      "metadata": {
        "colab": {
          "base_uri": "https://localhost:8080/"
        },
        "id": "q6VNHFkjofpW",
        "outputId": "68905b27-1194-4482-a9da-4564c0725dca"
      },
      "execution_count": null,
      "outputs": [
        {
          "output_type": "stream",
          "name": "stdout",
          "text": [
            "8\n",
            "4\n",
            "12\n",
            "4\n",
            "2.0\n",
            "32\n",
            "0\n",
            "5.5\n",
            "2.5\n",
            "8.0\n",
            "3.0\n",
            "2.2\n",
            "13.75\n",
            "0.5\n"
          ]
        }
      ]
    },
    {
      "cell_type": "code",
      "source": [
        "#Conversion of one unit to another (such as hours to minutes, miles to km and etc)\n",
        "km=int(input(\"Enter distance in km\\n\"))\n",
        "m=km*1000\n",
        "print(str(m)+\"meters\")\n",
        "kg=float(input(\"Enter weight in kg: \"))\n",
        "G=kg*1000\n",
        "print(G,\"grams\")\n",
        "temp=float(input(\"Enter temperature in fahrenheit\\n\"))\n",
        "celsius=(((temp-32)*5)/9)\n",
        "print(str(celsius)+\" degrees celsius\")"
      ],
      "metadata": {
        "colab": {
          "base_uri": "https://localhost:8080/"
        },
        "id": "cVU-8imyoh_e",
        "outputId": "e854c7a0-3f0b-4419-a84f-646ff92364e1"
      },
      "execution_count": null,
      "outputs": [
        {
          "output_type": "stream",
          "name": "stdout",
          "text": [
            "Enter distance in km\n",
            "1000\n",
            "1000000meters\n",
            "Enter weight in kg: 1\n",
            "1000.0 grams\n",
            "Enter temperature in fahrenheit\n",
            "55\n",
            "12.777777777777779 degrees celsius\n"
          ]
        }
      ]
    },
    {
      "cell_type": "code",
      "source": [
        "#Usage of mathematical functions in python like math.ceil, floor, fabs, fmod, trunc,pow, sqrt etc.\n",
        "import math\n",
        "a=float(input(\"Enter the first number: \"))\n",
        "b=float(input(\"Enter the second number: \"))\n",
        "print(math.ceil(a))\n",
        "print(math.floor(a))\n",
        "print(math.sqrt(a))\n",
        "print(math.pow(a,b))\n",
        "print(math.fabs(a))\n",
        "print(math.fmod(a,b))\n",
        "print(math.trunc(a))\n"
      ],
      "metadata": {
        "colab": {
          "base_uri": "https://localhost:8080/"
        },
        "id": "9hXiWOhjomBO",
        "outputId": "dc6c3955-afc3-46a7-d876-49cf6dc6bb74"
      },
      "execution_count": null,
      "outputs": [
        {
          "output_type": "stream",
          "name": "stdout",
          "text": [
            "Enter the first number: 5.5\n",
            "Enter the second number: 3.3\n",
            "6\n",
            "5\n",
            "2.345207879911715\n",
            "277.457759723262\n",
            "5.5\n",
            "2.2\n",
            "5\n"
          ]
        }
      ]
    },
    {
      "cell_type": "code",
      "source": [
        "#Building a mathematical calculator that can perform operations according to user input. Use decision making statement.\n",
        "a=int(input(\"Enter the first number\"))\n",
        "b=int(input(\"Enter the second number\"))\n",
        "c=str(input(\"Enter an operator of your choice\"))\n",
        "if c=='+':\n",
        "  print(\"Sum: \"+str(a)+\"+\"+str(b)+str(a+b))\n",
        "elif c=='-':\n",
        "  print(\"Difference: \"+str(a)+\"-\"+str(b)+str(a-b))\n",
        "elif c=='*':\n",
        "  print(\"Product:\"+str(a)+\"*\"+str(b)+str(a*b))\n",
        "elif c=='/':\n",
        "  print(\"Quotient: \"+str(a)+\"/\"+str(b)++str(a/b))\n",
        "elif c=='%':\n",
        "  print(\"Remainder: \"+str(a)+\"%\"+str(b)++str(a%b))"
      ],
      "metadata": {
        "colab": {
          "base_uri": "https://localhost:8080/"
        },
        "id": "Pyz6mzcdop-F",
        "outputId": "78981fb9-8a9e-4c32-d120-55d60d07e54c"
      },
      "execution_count": null,
      "outputs": [
        {
          "output_type": "stream",
          "name": "stdout",
          "text": [
            "Enter the first number5\n",
            "Enter the second number6\n",
            "Enter an operator of our choice*\n",
            "Product :5*6=30\n"
          ]
        }
      ]
    },
    {
      "cell_type": "code",
      "source": [
        "#Accepting 5 different subject marks from user and displaying the grade of the student.\n",
        "a=int(input('enter the marks of 1st subject: '))\n",
        "b=int(input('enter the marks of 2nd subject: '))\n",
        "c=int(input('enter the marks of 3rd subject: '))\n",
        "d=int(input('enter the marks of 4th subject: '))\n",
        "e=int(input('enter the marks of 5th subject: '))\n",
        "if (a+b+c+d+e)>=90:\n",
        "  print('Your grade is A')\n",
        "elif (a+b+c+d+e)<=80:\n",
        "  print('Your grade is B')\n",
        "elif (a+b+c+d+e)>=70:\n",
        "  print('Your grade is C')\n",
        "elif (a+b+c+d+e)>=60:\n",
        "  print('Your grade is D')\n",
        "elif (a+b+c+d+e)>=50:\n",
        "      print('Your grade is D')"
      ],
      "metadata": {
        "id": "sLJDEa0RotYP",
        "colab": {
          "base_uri": "https://localhost:8080/"
        },
        "outputId": "1b85dc7f-5ea9-4e7a-9b55-7c357c7ac9d7"
      },
      "execution_count": null,
      "outputs": [
        {
          "output_type": "stream",
          "name": "stdout",
          "text": [
            "enter the marks of 1st subject: 10\n",
            "enter the marks of 2nd subject: 99\n",
            "enter the marks of 3rd subject: 44\n",
            "enter the marks of 4th subject: 89\n",
            "enter the marks of 5th subject: 33\n",
            "Your grade is A\n"
          ]
        }
      ]
    },
    {
      "cell_type": "code",
      "source": [
        "#Printing all even numbers, odd numbers, count of even numbers, count of odd numbers within a given range.\n",
        "num1=int(input(\"Enter the starting value of a range: \"))\n",
        "num2=int(input(\"Enter the ending value of a range: \"))\n",
        "print(\"Even numbers in given Range\")\n",
        "for x in range(num1,num2+1):\n",
        " if x%2==0:\n",
        "  print(x)\n",
        "count=0\n",
        "for x in range(num1,num2):\n",
        " if x%2:\n",
        "  count+=1\n",
        "print(\"Number of even numbers are \",count)\n",
        "print(\"-----\")\n",
        "num3=int(input(\"Enter the starting value of a range: \"))\n",
        "num4=int(input(\"Enter the ending value of a range: \"))\n",
        "print(\"Odd numbers in given Range\")\n",
        "for x in range(num3,num4+1):\n",
        " if x%2==1:\n",
        "  print(x)\n",
        "count=0\n",
        "for x in range(num1,num2):\n",
        " if not x%2:\n",
        "  count+=1\n",
        "print(\"number of odd numbers are\",count)"
      ],
      "metadata": {
        "colab": {
          "base_uri": "https://localhost:8080/"
        },
        "id": "j3iHG-TUov8n",
        "outputId": "a1e2f9d1-c971-49cc-a6ef-f673eb0eb6ff"
      },
      "execution_count": null,
      "outputs": [
        {
          "output_type": "stream",
          "name": "stdout",
          "text": [
            "Enter the starting value of a range: 0\n",
            "Enter the ending value of a range: 9\n",
            "Even numbers in given Range\n",
            "0\n",
            "2\n",
            "4\n",
            "6\n",
            "8\n",
            "Number of even numbers are  4\n",
            "-----\n",
            "Enter the starting value of a range: 10\n",
            "Enter the ending value of a range: 20\n",
            "Odd numbers in given Range\n",
            "11\n",
            "13\n",
            "15\n",
            "17\n",
            "19\n",
            "number of odd numbers are 5\n"
          ]
        }
      ]
    },
    {
      "cell_type": "code",
      "source": [
        "#a) Compute the factorial of a given number. \n",
        "\n",
        "num=int(input(\"Enter a number to find factorial: \"))\n",
        "fact=1;\n",
        "if num<0:\n",
        "   print(\"Factorial does not exist\")\n",
        "elif(num==0):\n",
        "    print(\"The factorial of 0 = 1\")\n",
        "else:\n",
        "  while(num>0):\n",
        "        fact=fact*num\n",
        "        num=num-1\n",
        "  print(\"factorial of the given number = \",fact) "
      ],
      "metadata": {
        "id": "-YJuY-8c0-EM",
        "colab": {
          "base_uri": "https://localhost:8080/"
        },
        "outputId": "b40db460-4bbd-411a-9fcb-3606e3b035ab"
      },
      "execution_count": null,
      "outputs": [
        {
          "output_type": "stream",
          "name": "stdout",
          "text": [
            "Enter a number to find factorial: 4\n",
            "factorial of the given number =  24\n"
          ]
        }
      ]
    },
    {
      "cell_type": "code",
      "source": [
        "# b) Compute GCD of two given numbers.\n",
        "\n",
        "def compute_hcf(x, y):\n",
        "\n",
        "# choose the smaller number\n",
        "    if x > y:\n",
        "        smaller = y\n",
        "    else:\n",
        "        smaller = x\n",
        "    for i in range(1, smaller+1):\n",
        "        if((x % i == 0) and (y % i == 0)):\n",
        "            hcf = i \n",
        "    return hcf\n",
        "\n",
        "a=int(input())\n",
        "b=int(input())\n",
        "print(\"The H.C.F. is\", compute_hcf(a,b))\n"
      ],
      "metadata": {
        "colab": {
          "base_uri": "https://localhost:8080/"
        },
        "id": "SIJmXHEoZ-b6",
        "outputId": "e49c6cfc-de73-4d13-b8c2-5fd2308613bd"
      },
      "execution_count": null,
      "outputs": [
        {
          "output_type": "stream",
          "name": "stdout",
          "text": [
            "60\n",
            "48\n",
            "The H.C.F. is 12\n"
          ]
        }
      ]
    },
    {
      "cell_type": "code",
      "source": [
        "#c) Generate Fibonacci series up to N numbers.\n",
        "a = int(input(\"Enter the Number:\"))\n",
        "n1, n2 = 0, 1\n",
        "print(\"Fibonacci Series:\", n1, n2,end=\" \")\n",
        "for i in range(2, a):\n",
        "    n3 = n1 + n2\n",
        "    n1 = n2\n",
        "    n2 = n3\n",
        "    print(n3, end=\" \")\n",
        "\n",
        "print()"
      ],
      "metadata": {
        "colab": {
          "base_uri": "https://localhost:8080/"
        },
        "id": "SMSRQXFVaqq8",
        "outputId": "53507dc8-7d2b-4eff-df8f-6d2035c42206"
      },
      "execution_count": null,
      "outputs": [
        {
          "output_type": "stream",
          "name": "stdout",
          "text": [
            "Enter the Number:7\n",
            "Fibonacci Series: 0 1 1 2 3 5 8 \n"
          ]
        }
      ]
    },
    {
      "cell_type": "code",
      "source": [
        "#Check whether the given input is\n",
        "# a) palindrome  \n",
        "num=int(input(\"Enter a number:\"))\n",
        "temp=num\n",
        "rev=0\n",
        "while(num>0):\n",
        "    dig=num%10\n",
        "    rev=rev*10+dig\n",
        "    num=num//10\n",
        "if(temp==rev):\n",
        "    print(\"The number is palindrome\")\n",
        "else:\n",
        "    print(\"Not a palindrome\")"
      ],
      "metadata": {
        "colab": {
          "base_uri": "https://localhost:8080/"
        },
        "id": "QROn7v1Jo3at",
        "outputId": "8f1acaa3-b85c-407b-94ee-2688a9073513"
      },
      "execution_count": null,
      "outputs": [
        {
          "output_type": "stream",
          "name": "stdout",
          "text": [
            "Enter a number:67\n",
            "Not a palindrome\n"
          ]
        }
      ]
    },
    {
      "cell_type": "code",
      "source": [
        "#b) strong number sum of the factorials of the digits\n",
        "sum=0  \n",
        "n=int(input(\"Enter a number: \"))   \n",
        "b=n  \n",
        "while(n):  \n",
        "    i=1    \n",
        "    fact=1  \n",
        "    rem=n%10  \n",
        "    while(i<=rem):  \n",
        "        fact=fact*i \n",
        "        i=i+1  \n",
        "    sum=sum+fact  \n",
        "    n=n//10  \n",
        "if(sum==b):  \n",
        "    print(b,\"is a strong number\")  \n",
        "else:  \n",
        "    print(b,\" is not a strong number\")  "
      ],
      "metadata": {
        "colab": {
          "base_uri": "https://localhost:8080/"
        },
        "id": "q-erAsQpUffZ",
        "outputId": "b19b6c1a-09ab-4ef0-d20a-a4f06aee286c"
      },
      "execution_count": null,
      "outputs": [
        {
          "output_type": "stream",
          "name": "stdout",
          "text": [
            "Enter a number: 145\n",
            "145 is a strong number\n"
          ]
        }
      ]
    },
    {
      "cell_type": "code",
      "source": [
        "#c) perfect sum of the divisors of the number\n",
        "n=int(input())\n",
        "sum=0\n",
        "for i in range(1, n):\n",
        " if(n%i==0):\n",
        "  sum=sum+i\n",
        "if (sum==n):\n",
        " print(n,\"is a perfect number\")\n",
        "else:\n",
        " print(\"is not a perfect number\")"
      ],
      "metadata": {
        "colab": {
          "base_uri": "https://localhost:8080/"
        },
        "id": "CLIIOYhZUmm2",
        "outputId": "94531966-375c-433d-eb3e-f7c9ef4b8cfe"
      },
      "execution_count": null,
      "outputs": [
        {
          "output_type": "stream",
          "name": "stdout",
          "text": [
            "496\n",
            "496 is a perfect number\n"
          ]
        }
      ]
    },
    {
      "cell_type": "code",
      "source": [
        "#Compute compound interest using loop for a certain principal and interest amount\n",
        "principle=int(input(\"Enter the principle amount:\"))\n",
        "\n",
        "rate=float(input(\"Enter the rate:\"))\n",
        "\n",
        "time=int(input(\"Enter the number of years:\"))\n",
        "\n",
        "for i in range(time):\n",
        "    Amt = principle*(pow((1+rate/100),time))\n",
        "print(Amt)\n",
        "CI=Amt-principle\n",
        "print(CI)"
      ],
      "metadata": {
        "colab": {
          "base_uri": "https://localhost:8080/"
        },
        "id": "He-KgxPXo7sW",
        "outputId": "1066c9e2-7aea-4508-9237-048f3767e86b"
      },
      "execution_count": null,
      "outputs": [
        {
          "output_type": "stream",
          "name": "stdout",
          "text": [
            "Enter the principle amount:1200\n",
            "Enter the rate:5.4\n",
            "Enter the number of years:3\n",
            "1405.0865568000002\n",
            "205.08655680000015\n"
          ]
        }
      ]
    },
    {
      "cell_type": "code",
      "source": [
        "# Python Program to find the L.C.M. of two input number\n",
        "\n",
        "def compute_lcm(x, y):\n",
        "\n",
        "   # choose the greater number\n",
        "   if x > y:\n",
        "       greater = x\n",
        "   else:\n",
        "       greater = y\n",
        "\n",
        "   while(True):\n",
        "       if((greater % x == 0) and (greater % y == 0)):\n",
        "           lcm = greater\n",
        "           break\n",
        "       greater += 1\n",
        "\n",
        "   return lcm\n",
        "\n",
        "num1 = 54\n",
        "num2 = 24\n",
        "\n",
        "print(\"The L.C.M. is\", compute_lcm(num1, num2))"
      ],
      "metadata": {
        "id": "-YOhO1yPygJI"
      },
      "execution_count": null,
      "outputs": []
    },
    {
      "cell_type": "code",
      "source": [
        "n=int(input())\n",
        "m=int(input())\n",
        "c=0\n",
        "for i in range(n+1,m,2):\n",
        "  print(i,end=\" \")\n",
        "  c+=1\n",
        "print(\"\\n\"+str(c))"
      ],
      "metadata": {
        "id": "U8lMHAo5zK3J"
      },
      "execution_count": null,
      "outputs": []
    }
  ]
}