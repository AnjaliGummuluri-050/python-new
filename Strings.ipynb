{
  "nbformat": 4,
  "nbformat_minor": 0,
  "metadata": {
    "colab": {
      "name": "Strings.ipynb",
      "provenance": [],
      "collapsed_sections": [],
      "authorship_tag": "ABX9TyPHaljKcdn2dC1A+L77Xcjy",
      "include_colab_link": true
    },
    "kernelspec": {
      "name": "python3",
      "display_name": "Python 3"
    },
    "language_info": {
      "name": "python"
    }
  },
  "cells": [
    {
      "cell_type": "markdown",
      "metadata": {
        "id": "view-in-github",
        "colab_type": "text"
      },
      "source": [
        "<a href=\"https://colab.research.google.com/github/AnjaliGummuluri-050/python-new/blob/Module2/Strings.ipynb\" target=\"_parent\"><img src=\"https://colab.research.google.com/assets/colab-badge.svg\" alt=\"Open In Colab\"/></a>"
      ]
    },
    {
      "cell_type": "markdown",
      "source": [
        "NOTE: [INDEX:POSITION]"
      ],
      "metadata": {
        "id": "F5IrsSPoFBPJ"
      }
    },
    {
      "cell_type": "code",
      "execution_count": null,
      "metadata": {
        "colab": {
          "base_uri": "https://localhost:8080/"
        },
        "id": "eyOjl60h9k5g",
        "outputId": "65867f70-7570-4d98-a942-d1551fc8a78b"
      },
      "outputs": [
        {
          "output_type": "stream",
          "name": "stdout",
          "text": [
            "Hello ai ml guys\n"
          ]
        }
      ],
      "source": [
        "print(\"Hello ai ml guys\")"
      ]
    },
    {
      "cell_type": "markdown",
      "source": [
        "Multiline Strings\n",
        "Note: in the result, the line breaks are inserted at the same position as in the code."
      ],
      "metadata": {
        "id": "ayIAo-CI_OnR"
      }
    },
    {
      "cell_type": "code",
      "source": [
        "a='''From: 4-51-5, Lawsons Bay Colony\n",
        "     530017\n",
        "     To: ict\n",
        "    By car \n",
        "     TIMINGS: 9am-3pm'''\n",
        "print(a)"
      ],
      "metadata": {
        "colab": {
          "base_uri": "https://localhost:8080/"
        },
        "id": "Ey7lC7069v75",
        "outputId": "4cf07c5b-a8b3-4e5c-f47c-3b588b50f22f"
      },
      "execution_count": null,
      "outputs": [
        {
          "output_type": "stream",
          "name": "stdout",
          "text": [
            "From: 4-51-5, Lawsons Bay Colony\n",
            "     530017\n",
            "     To: ict\n",
            "    By car \n",
            "     TIMINGS: 9am-3pm\n"
          ]
        }
      ]
    },
    {
      "cell_type": "code",
      "source": [
        "#Length of a string\n",
        "a='hello'\n",
        "print(len(a))"
      ],
      "metadata": {
        "colab": {
          "base_uri": "https://localhost:8080/"
        },
        "id": "mmvNeL3e_RyZ",
        "outputId": "224a3a0a-7431-4cff-c89a-5437fdb54f19"
      },
      "execution_count": null,
      "outputs": [
        {
          "output_type": "stream",
          "name": "stdout",
          "text": [
            "5\n"
          ]
        }
      ]
    },
    {
      "cell_type": "code",
      "source": [
        "#Check String\n",
        "a=\"I will be 19 this April\"\n",
        "print(\"April\" in a)\n",
        "print(\"True\" in a)"
      ],
      "metadata": {
        "colab": {
          "base_uri": "https://localhost:8080/"
        },
        "id": "I-dZtoR5_s2Y",
        "outputId": "13833ab5-1647-4e0b-905b-db0f3edbc476"
      },
      "execution_count": null,
      "outputs": [
        {
          "output_type": "stream",
          "name": "stdout",
          "text": [
            "True\n",
            "False\n"
          ]
        }
      ]
    },
    {
      "cell_type": "code",
      "source": [
        "#Use it in an if statement\n",
        "a=\"I will be 19 this April\"\n",
        "if 'April' in a:\n",
        "  print(\"April is present in the sentence\")"
      ],
      "metadata": {
        "colab": {
          "base_uri": "https://localhost:8080/"
        },
        "id": "Je1BtwLuALDp",
        "outputId": "7a5ee25c-dcd3-4ca8-9a8e-c75920a5f4c4"
      },
      "execution_count": null,
      "outputs": [
        {
          "output_type": "stream",
          "name": "stdout",
          "text": [
            "April is present in the sentence\n"
          ]
        }
      ]
    },
    {
      "cell_type": "code",
      "source": [
        "a=\"Python is a programming language\"\n",
        "print('python'in a,'language' in a)\n",
        "print(\"Python\" in a)\n"
      ],
      "metadata": {
        "colab": {
          "base_uri": "https://localhost:8080/"
        },
        "id": "41VlFrBmAoo5",
        "outputId": "0b4ffd7e-c3ea-46a8-832d-e645c73e76e2"
      },
      "execution_count": null,
      "outputs": [
        {
          "output_type": "stream",
          "name": "stdout",
          "text": [
            "False True\n",
            "True\n"
          ]
        }
      ]
    },
    {
      "cell_type": "code",
      "source": [
        "#Check if NOT\n",
        "s='I want versace'\n",
        "if 'gucci' not in s:\n",
        "  print(\"not present in string\")\n",
        "print(\"versace\" not in s)\n",
        "print(\"versace\" in s)"
      ],
      "metadata": {
        "colab": {
          "base_uri": "https://localhost:8080/"
        },
        "id": "BMmvufE7A5UB",
        "outputId": "1c39681b-2417-49ee-fa82-9c4c3c880158"
      },
      "execution_count": null,
      "outputs": [
        {
          "output_type": "stream",
          "name": "stdout",
          "text": [
            "not present in string\n",
            "False\n",
            "True\n"
          ]
        }
      ]
    },
    {
      "cell_type": "markdown",
      "source": [
        "Slicing Strings"
      ],
      "metadata": {
        "id": "OVyRTiM2CkqC"
      }
    },
    {
      "cell_type": "code",
      "source": [
        "s=\"This is a sentence\"\n",
        "print(s[0:8])\n",
        "print(s[-5:])\n"
      ],
      "metadata": {
        "colab": {
          "base_uri": "https://localhost:8080/"
        },
        "id": "J3Ig26dJCrLg",
        "outputId": "c3e7dbc5-0f80-43a9-a6eb-897a5d17d781"
      },
      "execution_count": null,
      "outputs": [
        {
          "output_type": "stream",
          "name": "stdout",
          "text": [
            "This is \n",
            "tence\n"
          ]
        }
      ]
    },
    {
      "cell_type": "code",
      "source": [
        "b = \"Hello, World!\"\n",
        "print(b[2:5])"
      ],
      "metadata": {
        "colab": {
          "base_uri": "https://localhost:8080/"
        },
        "id": "evrJsuBgDBg5",
        "outputId": "c0028330-3534-4749-e105-a40959c1c36d"
      },
      "execution_count": null,
      "outputs": [
        {
          "output_type": "stream",
          "name": "stdout",
          "text": [
            "llo\n"
          ]
        }
      ]
    },
    {
      "cell_type": "code",
      "source": [
        "a='''can we get coffee anytime?\n",
        "      sure that would be great '''\n",
        "print(a[0:5])\n",
        "print(a[-9:-1])"
      ],
      "metadata": {
        "colab": {
          "base_uri": "https://localhost:8080/"
        },
        "id": "5kPT7ypaD3Ta",
        "outputId": "1a002d0b-a132-4d31-c22e-a4b7010cdf9e"
      },
      "execution_count": null,
      "outputs": [
        {
          "output_type": "stream",
          "name": "stdout",
          "text": [
            "can w\n",
            "be great\n"
          ]
        }
      ]
    },
    {
      "cell_type": "code",
      "source": [
        "a='''can we get coffee sometime?\n",
        "  sure that would be great'''\n",
        "print(a[-9:-1])\n",
        "print(a[2:])\n",
        "print(a[:6])\n",
        "print(a[:])\n",
        "print(a)"
      ],
      "metadata": {
        "colab": {
          "base_uri": "https://localhost:8080/"
        },
        "id": "BCsLH69nESAc",
        "outputId": "f56f4114-4354-4062-810f-c2f793c8d5b8"
      },
      "execution_count": null,
      "outputs": [
        {
          "output_type": "stream",
          "name": "stdout",
          "text": [
            " be grea\n",
            "n we get coffee sometime?\n",
            "  sure that would be great\n",
            "can we\n",
            "can we get coffee sometime?\n",
            "  sure that would be great\n",
            "can we get coffee sometime?\n",
            "  sure that would be great\n"
          ]
        }
      ]
    },
    {
      "cell_type": "code",
      "source": [
        "s='slice and dice urmom '\n",
        "print(s[-11:])\n",
        "print(s[:-11])\n",
        "print(s[-11:-1])\n"
      ],
      "metadata": {
        "colab": {
          "base_uri": "https://localhost:8080/"
        },
        "id": "J7ngj1N-FiQr",
        "outputId": "fdcb0ba2-7761-4c2f-c767-4bef37a0321d"
      },
      "execution_count": null,
      "outputs": [
        {
          "output_type": "stream",
          "name": "stdout",
          "text": [
            "dice urmom \n",
            "slice and \n",
            "dice urmom\n"
          ]
        }
      ]
    },
    {
      "cell_type": "markdown",
      "source": [
        " Modify Strings"
      ],
      "metadata": {
        "id": "OnTcRmwyGJ08"
      }
    },
    {
      "cell_type": "code",
      "source": [
        "#UPPERCASE\n",
        "s='i bathe my dogs'\n",
        "print(s.upper())"
      ],
      "metadata": {
        "colab": {
          "base_uri": "https://localhost:8080/"
        },
        "id": "orEdc-OUGND3",
        "outputId": "a7f2fcd1-463e-49b3-d98b-da96555c6a89"
      },
      "execution_count": null,
      "outputs": [
        {
          "output_type": "stream",
          "name": "stdout",
          "text": [
            "I BATHE MY DOGS\n"
          ]
        }
      ]
    },
    {
      "cell_type": "code",
      "source": [
        "s='i bathe my DoGs'\n",
        "print(s.upper())"
      ],
      "metadata": {
        "colab": {
          "base_uri": "https://localhost:8080/"
        },
        "id": "T0xsqIReGaWp",
        "outputId": "729d3076-88a8-44b5-8ef6-8dab18bda43e"
      },
      "execution_count": null,
      "outputs": [
        {
          "output_type": "stream",
          "name": "stdout",
          "text": [
            "I BATHE MY DOGS\n"
          ]
        }
      ]
    },
    {
      "cell_type": "code",
      "source": [
        "s=\"i bathe my DOGS\"\n",
        "print(s[11:15].lower())\n",
        "print(s[:1].upper())"
      ],
      "metadata": {
        "colab": {
          "base_uri": "https://localhost:8080/"
        },
        "id": "20KFyYltGmwS",
        "outputId": "763b6749-bf70-446c-b4cc-d2c7ffc3658a"
      },
      "execution_count": null,
      "outputs": [
        {
          "output_type": "stream",
          "name": "stdout",
          "text": [
            "dogs\n",
            "I\n"
          ]
        }
      ]
    },
    {
      "cell_type": "code",
      "source": [
        "#LOWERCASE\n",
        "a=\"RETROGADE\"\n",
        "print(a.lower())"
      ],
      "metadata": {
        "colab": {
          "base_uri": "https://localhost:8080/"
        },
        "id": "esL-rokmHIQL",
        "outputId": "49c66cbf-e4da-4ea2-b7c6-cfb6765a326e"
      },
      "execution_count": 1,
      "outputs": [
        {
          "output_type": "stream",
          "name": "stdout",
          "text": [
            "retrogade\n"
          ]
        }
      ]
    },
    {
      "cell_type": "code",
      "source": [
        "#Remove Whitespace\n",
        "a=' pay for my lunch'\n",
        "print(a.strip())"
      ],
      "metadata": {
        "colab": {
          "base_uri": "https://localhost:8080/"
        },
        "id": "6BASVWgOHPBS",
        "outputId": "4d9b66b3-e7f5-4111-c547-7265781cc662"
      },
      "execution_count": null,
      "outputs": [
        {
          "output_type": "stream",
          "name": "stdout",
          "text": [
            "pay for my lunch\n"
          ]
        }
      ]
    },
    {
      "cell_type": "code",
      "source": [
        "#Replace String\n",
        "s=\"i bathe my dogs and cats\"\n",
        "print(s.replace('a','butt'))\n"
      ],
      "metadata": {
        "colab": {
          "base_uri": "https://localhost:8080/"
        },
        "id": "r7mh2EtXHoRr",
        "outputId": "305da467-35ef-4a2a-d445-bb8e08c19799"
      },
      "execution_count": null,
      "outputs": [
        {
          "output_type": "stream",
          "name": "stdout",
          "text": [
            "i bbuttthe my dogs buttnd cbuttts\n"
          ]
        }
      ]
    },
    {
      "cell_type": "code",
      "source": [
        "#Split String\n",
        "c=\"pink machine gun\"\n",
        "print(c.split())"
      ],
      "metadata": {
        "colab": {
          "base_uri": "https://localhost:8080/"
        },
        "id": "M5sQ_zsLIL3r",
        "outputId": "8bb9c658-f208-4ccd-febf-f81f6b9b519c"
      },
      "execution_count": null,
      "outputs": [
        {
          "output_type": "stream",
          "name": "stdout",
          "text": [
            "['pink', 'machine', 'gun']\n"
          ]
        }
      ]
    },
    {
      "cell_type": "code",
      "source": [
        "#String Concatenation\n",
        "a='I am a '\n",
        "b=10\n",
        "print(a+str(b))"
      ],
      "metadata": {
        "colab": {
          "base_uri": "https://localhost:8080/"
        },
        "id": "V8Is_BIOJ3rz",
        "outputId": "76a1a745-5979-493b-c296-3c86b3e9a5f8"
      },
      "execution_count": null,
      "outputs": [
        {
          "output_type": "stream",
          "name": "stdout",
          "text": [
            "I am a 10\n"
          ]
        }
      ]
    },
    {
      "cell_type": "code",
      "source": [
        "a='I am'\n",
        "b='happy .'\n",
        "print(a+\" \"+b)"
      ],
      "metadata": {
        "colab": {
          "base_uri": "https://localhost:8080/"
        },
        "id": "VIPiB2SeKN-i",
        "outputId": "90561d86-b79e-4c0c-ebab-b9a6bf0b63f4"
      },
      "execution_count": 2,
      "outputs": [
        {
          "output_type": "stream",
          "name": "stdout",
          "text": [
            "I am happy .\n"
          ]
        }
      ]
    },
    {
      "cell_type": "code",
      "source": [
        "#format() \n",
        "a=3\n",
        "b=6\n",
        "c=10\n",
        "s='i want {} balls, {} bats and {} caps'\n",
        "t='i am {} years old'\n",
        "d=199\n",
        "print(s.format(a,b,c))\n",
        "print(t.format(d))"
      ],
      "metadata": {
        "colab": {
          "base_uri": "https://localhost:8080/"
        },
        "id": "W7iuM9LcLGuT",
        "outputId": "50948d7e-db71-4c42-a309-a8243002f5af"
      },
      "execution_count": 3,
      "outputs": [
        {
          "output_type": "stream",
          "name": "stdout",
          "text": [
            "i want 3 balls, 6 bats and 10 caps\n",
            "i am 199 years old\n"
          ]
        }
      ]
    },
    {
      "cell_type": "code",
      "source": [
        "#Escape Character (\\)\n",
        "s='I\\'m 12 years old mentally'\n",
        "print(s)"
      ],
      "metadata": {
        "colab": {
          "base_uri": "https://localhost:8080/"
        },
        "id": "-VKd2gDfL-ts",
        "outputId": "ac85b8ce-31cc-47f7-86b6-65f1494181d4"
      },
      "execution_count": null,
      "outputs": [
        {
          "output_type": "stream",
          "name": "stdout",
          "text": [
            "I'm 12 years old mentally\n"
          ]
        }
      ]
    },
    {
      "cell_type": "code",
      "source": [
        "txt = \"Hello World\"\n",
        "print(txt[::-1])"
      ],
      "metadata": {
        "colab": {
          "base_uri": "https://localhost:8080/"
        },
        "id": "9IxBf-3dqSeV",
        "outputId": "6078172d-89b2-42fd-c0c2-3b34c774c48b"
      },
      "execution_count": null,
      "outputs": [
        {
          "output_type": "stream",
          "name": "stdout",
          "text": [
            "dlroW olleH\n"
          ]
        }
      ]
    }
  ]
}